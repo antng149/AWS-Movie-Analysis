{
 "cells": [
  {
   "cell_type": "code",
   "execution_count": 1,
   "id": "a5b0cc5d",
   "metadata": {
    "execution": {
     "iopub.execute_input": "2023-04-21T04:57:50.738868Z",
     "iopub.status.busy": "2023-04-21T04:57:50.738106Z",
     "iopub.status.idle": "2023-04-21T04:58:15.168655Z",
     "shell.execute_reply": "2023-04-21T04:58:15.167425Z",
     "shell.execute_reply.started": "2023-04-21T04:57:50.738819Z"
    }
   },
   "outputs": [
    {
     "data": {
      "application/vnd.jupyter.widget-view+json": {
       "model_id": "c4d3e8fbd5bd4d2ab9118e1d6bae9cc7",
       "version_major": 2,
       "version_minor": 0
      },
      "text/plain": [
       "VBox()"
      ]
     },
     "metadata": {},
     "output_type": "display_data"
    },
    {
     "name": "stdout",
     "output_type": "stream",
     "text": [
      "Starting Spark application\n"
     ]
    },
    {
     "data": {
      "text/html": [
       "<table>\n",
       "<tr><th>ID</th><th>YARN Application ID</th><th>Kind</th><th>State</th><th>Spark UI</th><th>Driver log</th><th>Current session?</th></tr><tr><td>2</td><td>application_1682087553656_0003</td><td>pyspark</td><td>idle</td><td><a target=\"_blank\" href=\"http://ip-172-31-31-162.us-east-2.compute.internal:20888/proxy/application_1682087553656_0003/\">Link</a></td><td><a target=\"_blank\" href=\"http://ip-172-31-18-183.us-east-2.compute.internal:8042/node/containerlogs/container_1682087553656_0003_01_000001/livy\">Link</a></td><td>✔</td></tr></table>"
      ],
      "text/plain": [
       "<IPython.core.display.HTML object>"
      ]
     },
     "metadata": {},
     "output_type": "display_data"
    },
    {
     "data": {
      "application/vnd.jupyter.widget-view+json": {
       "model_id": "",
       "version_major": 2,
       "version_minor": 0
      },
      "text/plain": [
       "FloatProgress(value=0.0, bar_style='info', description='Progress:', layout=Layout(height='25px', width='50%'),…"
      ]
     },
     "metadata": {},
     "output_type": "display_data"
    },
    {
     "name": "stdout",
     "output_type": "stream",
     "text": [
      "SparkSession available as 'spark'.\n"
     ]
    },
    {
     "data": {
      "application/vnd.jupyter.widget-view+json": {
       "model_id": "",
       "version_major": 2,
       "version_minor": 0
      },
      "text/plain": [
       "FloatProgress(value=0.0, bar_style='info', description='Progress:', layout=Layout(height='25px', width='50%'),…"
      ]
     },
     "metadata": {},
     "output_type": "display_data"
    }
   ],
   "source": [
    "######### PART 1 - Installation and Intial Setup #########"
   ]
  },
  {
   "cell_type": "code",
   "execution_count": 2,
   "id": "eb258232",
   "metadata": {
    "execution": {
     "iopub.execute_input": "2023-04-21T04:58:15.172221Z",
     "iopub.status.busy": "2023-04-21T04:58:15.171679Z",
     "iopub.status.idle": "2023-04-21T04:58:15.338789Z",
     "shell.execute_reply": "2023-04-21T04:58:15.336394Z",
     "shell.execute_reply.started": "2023-04-21T04:58:15.172176Z"
    }
   },
   "outputs": [
    {
     "data": {
      "text/html": [
       "Current session configs: <tt>{'conf': {'spark.pyspark.python': 'python3', 'spark.pyspark.virtualenv.enabled': 'true', 'spark.pyspark.virtualenv.type': 'native', 'spark.pyspark.virtualenv.bin.path': '/usr/bin/virtualenv'}, 'kind': 'pyspark'}</tt><br>"
      ],
      "text/plain": [
       "<IPython.core.display.HTML object>"
      ]
     },
     "metadata": {},
     "output_type": "display_data"
    },
    {
     "data": {
      "text/html": [
       "<table>\n",
       "<tr><th>ID</th><th>YARN Application ID</th><th>Kind</th><th>State</th><th>Spark UI</th><th>Driver log</th><th>Current session?</th></tr><tr><td>2</td><td>application_1682087553656_0003</td><td>pyspark</td><td>idle</td><td><a target=\"_blank\" href=\"http://ip-172-31-31-162.us-east-2.compute.internal:20888/proxy/application_1682087553656_0003/\">Link</a></td><td><a target=\"_blank\" href=\"http://ip-172-31-18-183.us-east-2.compute.internal:8042/node/containerlogs/container_1682087553656_0003_01_000001/livy\">Link</a></td><td>✔</td></tr></table>"
      ],
      "text/plain": [
       "<IPython.core.display.HTML object>"
      ]
     },
     "metadata": {},
     "output_type": "display_data"
    }
   ],
   "source": [
    "%%info"
   ]
  },
  {
   "cell_type": "code",
   "execution_count": 3,
   "id": "bc6cfa76",
   "metadata": {
    "execution": {
     "iopub.execute_input": "2023-04-21T04:59:35.039601Z",
     "iopub.status.busy": "2023-04-21T04:59:35.036043Z",
     "iopub.status.idle": "2023-04-21T04:59:55.481131Z",
     "shell.execute_reply": "2023-04-21T04:59:55.480270Z",
     "shell.execute_reply.started": "2023-04-21T04:59:35.039555Z"
    }
   },
   "outputs": [
    {
     "data": {
      "application/vnd.jupyter.widget-view+json": {
       "model_id": "511b363b656040958826db3e3f3d7af7",
       "version_major": 2,
       "version_minor": 0
      },
      "text/plain": [
       "VBox()"
      ]
     },
     "metadata": {},
     "output_type": "display_data"
    },
    {
     "data": {
      "application/vnd.jupyter.widget-view+json": {
       "model_id": "",
       "version_major": 2,
       "version_minor": 0
      },
      "text/plain": [
       "FloatProgress(value=0.0, bar_style='info', description='Progress:', layout=Layout(height='25px', width='50%'),…"
      ]
     },
     "metadata": {},
     "output_type": "display_data"
    },
    {
     "name": "stdout",
     "output_type": "stream",
     "text": [
      "Collecting pandas==1.0.3\n",
      "  Using cached https://files.pythonhosted.org/packages/4a/6a/94b219b8ea0f2d580169e85ed1edc0163743f55aaeca8a44c2e8fc1e344e/pandas-1.0.3-cp37-cp37m-manylinux1_x86_64.whl\n",
      "Requirement already satisfied: numpy>=1.13.3 in /usr/local/lib64/python3.7/site-packages (from pandas==1.0.3)\n",
      "Collecting python-dateutil>=2.6.1 (from pandas==1.0.3)\n",
      "  Using cached https://files.pythonhosted.org/packages/36/7a/87837f39d0296e723bb9b62bbb257d0355c7f6128853c78955f57342a56d/python_dateutil-2.8.2-py2.py3-none-any.whl\n",
      "Requirement already satisfied: pytz>=2017.2 in /usr/local/lib/python3.7/site-packages (from pandas==1.0.3)\n",
      "Requirement already satisfied: six>=1.5 in /usr/local/lib/python3.7/site-packages (from python-dateutil>=2.6.1->pandas==1.0.3)\n",
      "Installing collected packages: python-dateutil, pandas\n",
      "Successfully installed pandas-1.0.3 python-dateutil-2.8.2\n",
      "\n",
      "Collecting matplotlib==3.2.1\n",
      "  Using cached https://files.pythonhosted.org/packages/b2/c2/71fcf957710f3ba1f09088b35776a799ba7dd95f7c2b195ec800933b276b/matplotlib-3.2.1-cp37-cp37m-manylinux1_x86_64.whl\n",
      "Collecting pyparsing!=2.0.4,!=2.1.2,!=2.1.6,>=2.0.1 (from matplotlib==3.2.1)\n",
      "  Using cached https://files.pythonhosted.org/packages/6c/10/a7d0fa5baea8fe7b50f448ab742f26f52b80bfca85ac2be9d35cdd9a3246/pyparsing-3.0.9-py3-none-any.whl\n",
      "Requirement already satisfied: python-dateutil>=2.1 in /mnt/tmp/1682096917141-0/lib/python3.7/site-packages (from matplotlib==3.2.1)\n",
      "Requirement already satisfied: numpy>=1.11 in /usr/local/lib64/python3.7/site-packages (from matplotlib==3.2.1)\n",
      "Collecting cycler>=0.10 (from matplotlib==3.2.1)\n",
      "  Using cached https://files.pythonhosted.org/packages/5c/f9/695d6bedebd747e5eb0fe8fad57b72fdf25411273a39791cde838d5a8f51/cycler-0.11.0-py3-none-any.whl\n",
      "Collecting kiwisolver>=1.0.1 (from matplotlib==3.2.1)\n",
      "  Using cached https://files.pythonhosted.org/packages/ab/8f/8dbe2d4efc4c0b08ec67d6efb7cc31fbfd688c80afad85f65980633b0d37/kiwisolver-1.4.4-cp37-cp37m-manylinux_2_5_x86_64.manylinux1_x86_64.whl\n",
      "Requirement already satisfied: six>=1.5 in /usr/local/lib/python3.7/site-packages (from python-dateutil>=2.1->matplotlib==3.2.1)\n",
      "Collecting typing-extensions; python_version < \"3.8\" (from kiwisolver>=1.0.1->matplotlib==3.2.1)\n",
      "  Using cached https://files.pythonhosted.org/packages/31/25/5abcd82372d3d4a3932e1fa8c3dbf9efac10cc7c0d16e78467460571b404/typing_extensions-4.5.0-py3-none-any.whl\n",
      "Installing collected packages: pyparsing, cycler, typing-extensions, kiwisolver, matplotlib\n",
      "Successfully installed cycler-0.11.0 kiwisolver-1.4.4 matplotlib-3.2.1 pyparsing-3.0.9 typing-extensions-4.5.0"
     ]
    }
   ],
   "source": [
    "sc.install_pypi_package(\"pandas==1.0.3\")\n",
    "sc.install_pypi_package(\"matplotlib==3.2.1\")"
   ]
  },
  {
   "cell_type": "code",
   "execution_count": 4,
   "id": "309da972",
   "metadata": {
    "execution": {
     "iopub.execute_input": "2023-04-21T04:58:15.341480Z",
     "iopub.status.busy": "2023-04-21T04:58:15.340585Z",
     "iopub.status.idle": "2023-04-21T04:58:27.042639Z",
     "shell.execute_reply": "2023-04-21T04:58:27.041815Z",
     "shell.execute_reply.started": "2023-04-21T04:58:15.341436Z"
    }
   },
   "outputs": [
    {
     "data": {
      "application/vnd.jupyter.widget-view+json": {
       "model_id": "f0760cf2629143e59bc0024c207e8258",
       "version_major": 2,
       "version_minor": 0
      },
      "text/plain": [
       "VBox()"
      ]
     },
     "metadata": {},
     "output_type": "display_data"
    },
    {
     "data": {
      "application/vnd.jupyter.widget-view+json": {
       "model_id": "",
       "version_major": 2,
       "version_minor": 0
      },
      "text/plain": [
       "FloatProgress(value=0.0, bar_style='info', description='Progress:', layout=Layout(height='25px', width='50%'),…"
      ]
     },
     "metadata": {},
     "output_type": "display_data"
    }
   ],
   "source": [
    "# The data comes from https://www.kaggle.com/datasets/ashirwadsangwan/imdb-dataset\n",
    "actors = spark.read.csv('s3://cis9760-lecture9-movieanalysis/name.basics.tsv', sep=r'\\t', header=True)\n",
    "genres = spark.read.csv('s3://cis9760-lecture9-movieanalysis/title.basics.tsv', sep=r'\\t', header=True)\n",
    "movie_actors = spark.read.csv('s3://cis9760-lecture9-movieanalysis/title.principals.tsv', sep=r'\\t', header=True)\n",
    "movie_ratings = spark.read.csv('s3://cis9760-lecture9-movieanalysis/title.ratings.tsv', sep=r'\\t', header=True)"
   ]
  },
  {
   "cell_type": "code",
   "execution_count": 5,
   "id": "4ebd2fd5",
   "metadata": {
    "execution": {
     "iopub.execute_input": "2023-04-21T04:58:27.044419Z",
     "iopub.status.busy": "2023-04-21T04:58:27.044071Z",
     "iopub.status.idle": "2023-04-21T04:58:27.256761Z",
     "shell.execute_reply": "2023-04-21T04:58:27.255961Z",
     "shell.execute_reply.started": "2023-04-21T04:58:27.044381Z"
    }
   },
   "outputs": [
    {
     "data": {
      "application/vnd.jupyter.widget-view+json": {
       "model_id": "0860d4618f4246539684d2a6e032e3b4",
       "version_major": 2,
       "version_minor": 0
      },
      "text/plain": [
       "VBox()"
      ]
     },
     "metadata": {},
     "output_type": "display_data"
    },
    {
     "data": {
      "application/vnd.jupyter.widget-view+json": {
       "model_id": "",
       "version_major": 2,
       "version_minor": 0
      },
      "text/plain": [
       "FloatProgress(value=0.0, bar_style='info', description='Progress:', layout=Layout(height='25px', width='50%'),…"
      ]
     },
     "metadata": {},
     "output_type": "display_data"
    }
   ],
   "source": [
    "## ACTORS"
   ]
  },
  {
   "cell_type": "code",
   "execution_count": 6,
   "id": "c7e4e3c2",
   "metadata": {
    "execution": {
     "iopub.execute_input": "2023-04-21T04:58:27.258389Z",
     "iopub.status.busy": "2023-04-21T04:58:27.258066Z",
     "iopub.status.idle": "2023-04-21T04:58:27.540938Z",
     "shell.execute_reply": "2023-04-21T04:58:27.539825Z",
     "shell.execute_reply.started": "2023-04-21T04:58:27.258351Z"
    }
   },
   "outputs": [
    {
     "data": {
      "application/vnd.jupyter.widget-view+json": {
       "model_id": "11a0cd36396b43cda32465c7922bfc80",
       "version_major": 2,
       "version_minor": 0
      },
      "text/plain": [
       "VBox()"
      ]
     },
     "metadata": {},
     "output_type": "display_data"
    },
    {
     "data": {
      "application/vnd.jupyter.widget-view+json": {
       "model_id": "",
       "version_major": 2,
       "version_minor": 0
      },
      "text/plain": [
       "FloatProgress(value=0.0, bar_style='info', description='Progress:', layout=Layout(height='25px', width='50%'),…"
      ]
     },
     "metadata": {},
     "output_type": "display_data"
    },
    {
     "name": "stdout",
     "output_type": "stream",
     "text": [
      "root\n",
      " |-- nconst: string (nullable = true)\n",
      " |-- primaryName: string (nullable = true)\n",
      " |-- birthYear: string (nullable = true)\n",
      " |-- deathYear: string (nullable = true)\n",
      " |-- primaryProfession: string (nullable = true)\n",
      " |-- knownForTitles: string (nullable = true)"
     ]
    }
   ],
   "source": [
    "actors.printSchema()"
   ]
  },
  {
   "cell_type": "code",
   "execution_count": 7,
   "id": "6dd8ac90",
   "metadata": {
    "execution": {
     "iopub.execute_input": "2023-04-21T04:58:27.542569Z",
     "iopub.status.busy": "2023-04-21T04:58:27.542133Z",
     "iopub.status.idle": "2023-04-21T04:58:28.558880Z",
     "shell.execute_reply": "2023-04-21T04:58:28.557555Z",
     "shell.execute_reply.started": "2023-04-21T04:58:27.542465Z"
    }
   },
   "outputs": [
    {
     "data": {
      "application/vnd.jupyter.widget-view+json": {
       "model_id": "fe77f54589d04833af7eeec9b04a62c8",
       "version_major": 2,
       "version_minor": 0
      },
      "text/plain": [
       "VBox()"
      ]
     },
     "metadata": {},
     "output_type": "display_data"
    },
    {
     "data": {
      "application/vnd.jupyter.widget-view+json": {
       "model_id": "",
       "version_major": 2,
       "version_minor": 0
      },
      "text/plain": [
       "FloatProgress(value=0.0, bar_style='info', description='Progress:', layout=Layout(height='25px', width='50%'),…"
      ]
     },
     "metadata": {},
     "output_type": "display_data"
    },
    {
     "name": "stdout",
     "output_type": "stream",
     "text": [
      "+---------------+---------+---------+--------------------+\n",
      "|    primaryName|birthYear|deathYear|      knownForTitles|\n",
      "+---------------+---------+---------+--------------------+\n",
      "|   Fred Astaire|     1899|     1987|tt0050419,tt00531...|\n",
      "|  Lauren Bacall|     1924|     2014|tt0071877,tt01170...|\n",
      "|Brigitte Bardot|     1934|       \\N|tt0054452,tt00491...|\n",
      "|   John Belushi|     1949|     1982|tt0077975,tt00725...|\n",
      "| Ingmar Bergman|     1918|     2007|tt0069467,tt00509...|\n",
      "+---------------+---------+---------+--------------------+\n",
      "only showing top 5 rows"
     ]
    }
   ],
   "source": [
    "actors.select(\"primaryName\", \"birthYear\", \"deathYear\", \"knownForTitles\").show(5)"
   ]
  },
  {
   "cell_type": "code",
   "execution_count": 8,
   "id": "ba969da7",
   "metadata": {
    "execution": {
     "iopub.execute_input": "2023-04-21T04:58:28.568752Z",
     "iopub.status.busy": "2023-04-21T04:58:28.568420Z",
     "iopub.status.idle": "2023-04-21T04:58:29.139295Z",
     "shell.execute_reply": "2023-04-21T04:58:29.138644Z",
     "shell.execute_reply.started": "2023-04-21T04:58:28.568724Z"
    }
   },
   "outputs": [
    {
     "data": {
      "application/vnd.jupyter.widget-view+json": {
       "model_id": "95e066df71134ef59ef34d63a094d11f",
       "version_major": 2,
       "version_minor": 0
      },
      "text/plain": [
       "VBox()"
      ]
     },
     "metadata": {},
     "output_type": "display_data"
    },
    {
     "data": {
      "application/vnd.jupyter.widget-view+json": {
       "model_id": "",
       "version_major": 2,
       "version_minor": 0
      },
      "text/plain": [
       "FloatProgress(value=0.0, bar_style='info', description='Progress:', layout=Layout(height='25px', width='50%'),…"
      ]
     },
     "metadata": {},
     "output_type": "display_data"
    }
   ],
   "source": [
    "## GENRES"
   ]
  },
  {
   "cell_type": "code",
   "execution_count": 9,
   "id": "058f5241",
   "metadata": {
    "execution": {
     "iopub.execute_input": "2023-04-21T04:58:29.142378Z",
     "iopub.status.busy": "2023-04-21T04:58:29.141951Z",
     "iopub.status.idle": "2023-04-21T04:58:29.895370Z",
     "shell.execute_reply": "2023-04-21T04:58:29.894274Z",
     "shell.execute_reply.started": "2023-04-21T04:58:29.142335Z"
    }
   },
   "outputs": [
    {
     "data": {
      "application/vnd.jupyter.widget-view+json": {
       "model_id": "65d50c4d01aa488cb34ed99180b45b5a",
       "version_major": 2,
       "version_minor": 0
      },
      "text/plain": [
       "VBox()"
      ]
     },
     "metadata": {},
     "output_type": "display_data"
    },
    {
     "data": {
      "application/vnd.jupyter.widget-view+json": {
       "model_id": "",
       "version_major": 2,
       "version_minor": 0
      },
      "text/plain": [
       "FloatProgress(value=0.0, bar_style='info', description='Progress:', layout=Layout(height='25px', width='50%'),…"
      ]
     },
     "metadata": {},
     "output_type": "display_data"
    },
    {
     "name": "stdout",
     "output_type": "stream",
     "text": [
      "+---------+--------------------+--------------------+\n",
      "|titleType|        primaryTitle|              genres|\n",
      "+---------+--------------------+--------------------+\n",
      "|    short|          Carmencita|   Documentary,Short|\n",
      "|    short|Le clown et ses c...|     Animation,Short|\n",
      "|    short|      Pauvre Pierrot|Animation,Comedy,...|\n",
      "|    short|         Un bon bock|     Animation,Short|\n",
      "|    short|    Blacksmith Scene|        Comedy,Short|\n",
      "|    short|   Chinese Opium Den|               Short|\n",
      "|    short|Corbett and Court...|         Short,Sport|\n",
      "|    short|Edison Kinetoscop...|   Documentary,Short|\n",
      "|    movie|          Miss Jerry|             Romance|\n",
      "|    short| Exiting the Factory|   Documentary,Short|\n",
      "+---------+--------------------+--------------------+\n",
      "only showing top 10 rows"
     ]
    }
   ],
   "source": [
    "genres.select(\"titleType\", \"primaryTitle\", \"genres\").show(10)"
   ]
  },
  {
   "cell_type": "code",
   "execution_count": 10,
   "id": "563f504a",
   "metadata": {
    "execution": {
     "iopub.execute_input": "2023-04-21T04:58:29.897674Z",
     "iopub.status.busy": "2023-04-21T04:58:29.896906Z",
     "iopub.status.idle": "2023-04-21T04:58:36.061491Z",
     "shell.execute_reply": "2023-04-21T04:58:36.061092Z",
     "shell.execute_reply.started": "2023-04-21T04:58:29.897630Z"
    }
   },
   "outputs": [
    {
     "data": {
      "application/vnd.jupyter.widget-view+json": {
       "model_id": "24003355e00e4b96a4364be1d7512232",
       "version_major": 2,
       "version_minor": 0
      },
      "text/plain": [
       "VBox()"
      ]
     },
     "metadata": {},
     "output_type": "display_data"
    },
    {
     "data": {
      "application/vnd.jupyter.widget-view+json": {
       "model_id": "",
       "version_major": 2,
       "version_minor": 0
      },
      "text/plain": [
       "FloatProgress(value=0.0, bar_style='info', description='Progress:', layout=Layout(height='25px', width='50%'),…"
      ]
     },
     "metadata": {},
     "output_type": "display_data"
    },
    {
     "name": "stdout",
     "output_type": "stream",
     "text": [
      "+------------+\n",
      "|   titleType|\n",
      "+------------+\n",
      "|    tvSeries|\n",
      "|tvMiniSeries|\n",
      "|       movie|\n",
      "|   videoGame|\n",
      "|   tvSpecial|\n",
      "|       video|\n",
      "|     tvMovie|\n",
      "|   tvEpisode|\n",
      "|     tvShort|\n",
      "|       short|\n",
      "+------------+"
     ]
    }
   ],
   "source": [
    "genres.select(\"titleType\").distinct().show()"
   ]
  },
  {
   "cell_type": "code",
   "execution_count": 11,
   "id": "fa313730",
   "metadata": {
    "execution": {
     "iopub.execute_input": "2023-04-21T04:58:36.063989Z",
     "iopub.status.busy": "2023-04-21T04:58:36.062961Z",
     "iopub.status.idle": "2023-04-21T04:58:36.658960Z",
     "shell.execute_reply": "2023-04-21T04:58:36.643846Z",
     "shell.execute_reply.started": "2023-04-21T04:58:36.063952Z"
    }
   },
   "outputs": [
    {
     "data": {
      "application/vnd.jupyter.widget-view+json": {
       "model_id": "da4d1662d0b7410a93b45dfe92a91c64",
       "version_major": 2,
       "version_minor": 0
      },
      "text/plain": [
       "VBox()"
      ]
     },
     "metadata": {},
     "output_type": "display_data"
    },
    {
     "data": {
      "application/vnd.jupyter.widget-view+json": {
       "model_id": "",
       "version_major": 2,
       "version_minor": 0
      },
      "text/plain": [
       "FloatProgress(value=0.0, bar_style='info', description='Progress:', layout=Layout(height='25px', width='50%'),…"
      ]
     },
     "metadata": {},
     "output_type": "display_data"
    },
    {
     "name": "stdout",
     "output_type": "stream",
     "text": [
      "root\n",
      " |-- tconst: string (nullable = true)\n",
      " |-- titleType: string (nullable = true)\n",
      " |-- primaryTitle: string (nullable = true)\n",
      " |-- originalTitle: string (nullable = true)\n",
      " |-- isAdult: string (nullable = true)\n",
      " |-- startYear: string (nullable = true)\n",
      " |-- endYear: string (nullable = true)\n",
      " |-- runtimeMinutes: string (nullable = true)\n",
      " |-- genres: string (nullable = true)"
     ]
    }
   ],
   "source": [
    "genres.printSchema()"
   ]
  },
  {
   "cell_type": "code",
   "execution_count": 12,
   "id": "01e760b4",
   "metadata": {
    "execution": {
     "iopub.execute_input": "2023-04-21T04:58:36.663491Z",
     "iopub.status.busy": "2023-04-21T04:58:36.659827Z",
     "iopub.status.idle": "2023-04-21T04:58:37.145877Z",
     "shell.execute_reply": "2023-04-21T04:58:37.144378Z",
     "shell.execute_reply.started": "2023-04-21T04:58:36.663441Z"
    }
   },
   "outputs": [
    {
     "data": {
      "application/vnd.jupyter.widget-view+json": {
       "model_id": "c5ca6c79ef9c4ef6b2567c9ca9d16a96",
       "version_major": 2,
       "version_minor": 0
      },
      "text/plain": [
       "VBox()"
      ]
     },
     "metadata": {},
     "output_type": "display_data"
    },
    {
     "data": {
      "application/vnd.jupyter.widget-view+json": {
       "model_id": "",
       "version_major": 2,
       "version_minor": 0
      },
      "text/plain": [
       "FloatProgress(value=0.0, bar_style='info', description='Progress:', layout=Layout(height='25px', width='50%'),…"
      ]
     },
     "metadata": {},
     "output_type": "display_data"
    }
   ],
   "source": [
    "#MOVIE ACTORS"
   ]
  },
  {
   "cell_type": "code",
   "execution_count": 13,
   "id": "817477a3",
   "metadata": {
    "execution": {
     "iopub.execute_input": "2023-04-21T04:58:37.148599Z",
     "iopub.status.busy": "2023-04-21T04:58:37.148029Z",
     "iopub.status.idle": "2023-04-21T04:58:37.654623Z",
     "shell.execute_reply": "2023-04-21T04:58:37.652575Z",
     "shell.execute_reply.started": "2023-04-21T04:58:37.148560Z"
    }
   },
   "outputs": [
    {
     "data": {
      "application/vnd.jupyter.widget-view+json": {
       "model_id": "e1a8c54e08bc4d8091d996c4f589d8c5",
       "version_major": 2,
       "version_minor": 0
      },
      "text/plain": [
       "VBox()"
      ]
     },
     "metadata": {},
     "output_type": "display_data"
    },
    {
     "data": {
      "application/vnd.jupyter.widget-view+json": {
       "model_id": "",
       "version_major": 2,
       "version_minor": 0
      },
      "text/plain": [
       "FloatProgress(value=0.0, bar_style='info', description='Progress:', layout=Layout(height='25px', width='50%'),…"
      ]
     },
     "metadata": {},
     "output_type": "display_data"
    },
    {
     "name": "stdout",
     "output_type": "stream",
     "text": [
      "root\n",
      " |-- tconst: string (nullable = true)\n",
      " |-- ordering: string (nullable = true)\n",
      " |-- nconst: string (nullable = true)\n",
      " |-- category: string (nullable = true)\n",
      " |-- job: string (nullable = true)\n",
      " |-- characters: string (nullable = true)"
     ]
    }
   ],
   "source": [
    "movie_actors.printSchema()"
   ]
  },
  {
   "cell_type": "code",
   "execution_count": 14,
   "id": "796b2463",
   "metadata": {
    "execution": {
     "iopub.execute_input": "2023-04-21T04:58:37.657079Z",
     "iopub.status.busy": "2023-04-21T04:58:37.656279Z",
     "iopub.status.idle": "2023-04-21T04:58:38.449353Z",
     "shell.execute_reply": "2023-04-21T04:58:38.448222Z",
     "shell.execute_reply.started": "2023-04-21T04:58:37.657036Z"
    }
   },
   "outputs": [
    {
     "data": {
      "application/vnd.jupyter.widget-view+json": {
       "model_id": "332bc03c47fa497699cf94631a2ab534",
       "version_major": 2,
       "version_minor": 0
      },
      "text/plain": [
       "VBox()"
      ]
     },
     "metadata": {},
     "output_type": "display_data"
    },
    {
     "data": {
      "application/vnd.jupyter.widget-view+json": {
       "model_id": "",
       "version_major": 2,
       "version_minor": 0
      },
      "text/plain": [
       "FloatProgress(value=0.0, bar_style='info', description='Progress:', layout=Layout(height='25px', width='50%'),…"
      ]
     },
     "metadata": {},
     "output_type": "display_data"
    },
    {
     "name": "stdout",
     "output_type": "stream",
     "text": [
      "+---------+--------+---------+---------------+--------------------+-----------+\n",
      "|   tconst|ordering|   nconst|       category|                 job| characters|\n",
      "+---------+--------+---------+---------------+--------------------+-----------+\n",
      "|tt0000001|       1|nm1588970|           self|                  \\N|[\"Herself\"]|\n",
      "|tt0000001|       2|nm0005690|       director|                  \\N|         \\N|\n",
      "|tt0000001|       3|nm0374658|cinematographer|director of photo...|         \\N|\n",
      "|tt0000002|       1|nm0721526|       director|                  \\N|         \\N|\n",
      "|tt0000002|       2|nm1335271|       composer|                  \\N|         \\N|\n",
      "|tt0000003|       1|nm0721526|       director|                  \\N|         \\N|\n",
      "|tt0000003|       2|nm5442194|       producer|            producer|         \\N|\n",
      "|tt0000003|       3|nm1335271|       composer|                  \\N|         \\N|\n",
      "|tt0000003|       4|nm5442200|         editor|                  \\N|         \\N|\n",
      "|tt0000004|       1|nm0721526|       director|                  \\N|         \\N|\n",
      "+---------+--------+---------+---------------+--------------------+-----------+\n",
      "only showing top 10 rows"
     ]
    }
   ],
   "source": [
    "movie_actors.show(10)"
   ]
  },
  {
   "cell_type": "code",
   "execution_count": 15,
   "id": "fff17492",
   "metadata": {
    "execution": {
     "iopub.execute_input": "2023-04-21T04:58:38.451346Z",
     "iopub.status.busy": "2023-04-21T04:58:38.450668Z",
     "iopub.status.idle": "2023-04-21T04:58:39.136751Z",
     "shell.execute_reply": "2023-04-21T04:58:39.135329Z",
     "shell.execute_reply.started": "2023-04-21T04:58:38.451308Z"
    }
   },
   "outputs": [
    {
     "data": {
      "application/vnd.jupyter.widget-view+json": {
       "model_id": "78c249976e634d198eee6aaa4b045138",
       "version_major": 2,
       "version_minor": 0
      },
      "text/plain": [
       "VBox()"
      ]
     },
     "metadata": {},
     "output_type": "display_data"
    },
    {
     "data": {
      "application/vnd.jupyter.widget-view+json": {
       "model_id": "",
       "version_major": 2,
       "version_minor": 0
      },
      "text/plain": [
       "FloatProgress(value=0.0, bar_style='info', description='Progress:', layout=Layout(height='25px', width='50%'),…"
      ]
     },
     "metadata": {},
     "output_type": "display_data"
    }
   ],
   "source": [
    "#MOVIE RATINGS"
   ]
  },
  {
   "cell_type": "code",
   "execution_count": 16,
   "id": "5854b5c4",
   "metadata": {
    "execution": {
     "iopub.execute_input": "2023-04-21T04:58:39.138939Z",
     "iopub.status.busy": "2023-04-21T04:58:39.138287Z",
     "iopub.status.idle": "2023-04-21T04:58:39.444466Z",
     "shell.execute_reply": "2023-04-21T04:58:39.443376Z",
     "shell.execute_reply.started": "2023-04-21T04:58:39.138898Z"
    }
   },
   "outputs": [
    {
     "data": {
      "application/vnd.jupyter.widget-view+json": {
       "model_id": "d4919ac2e24d45399d27fb94e3469c82",
       "version_major": 2,
       "version_minor": 0
      },
      "text/plain": [
       "VBox()"
      ]
     },
     "metadata": {},
     "output_type": "display_data"
    },
    {
     "data": {
      "application/vnd.jupyter.widget-view+json": {
       "model_id": "",
       "version_major": 2,
       "version_minor": 0
      },
      "text/plain": [
       "FloatProgress(value=0.0, bar_style='info', description='Progress:', layout=Layout(height='25px', width='50%'),…"
      ]
     },
     "metadata": {},
     "output_type": "display_data"
    },
    {
     "name": "stdout",
     "output_type": "stream",
     "text": [
      "root\n",
      " |-- tconst: string (nullable = true)\n",
      " |-- averageRating: string (nullable = true)\n",
      " |-- numVotes: string (nullable = true)"
     ]
    }
   ],
   "source": [
    "movie_ratings.printSchema()"
   ]
  },
  {
   "cell_type": "code",
   "execution_count": 17,
   "id": "4e91605d",
   "metadata": {
    "execution": {
     "iopub.execute_input": "2023-04-21T04:58:39.447095Z",
     "iopub.status.busy": "2023-04-21T04:58:39.446367Z",
     "iopub.status.idle": "2023-04-21T04:58:39.886953Z",
     "shell.execute_reply": "2023-04-21T04:58:39.885106Z",
     "shell.execute_reply.started": "2023-04-21T04:58:39.447054Z"
    }
   },
   "outputs": [
    {
     "data": {
      "application/vnd.jupyter.widget-view+json": {
       "model_id": "38a850b9a4a24e53a713520904a2ad4c",
       "version_major": 2,
       "version_minor": 0
      },
      "text/plain": [
       "VBox()"
      ]
     },
     "metadata": {},
     "output_type": "display_data"
    },
    {
     "data": {
      "application/vnd.jupyter.widget-view+json": {
       "model_id": "",
       "version_major": 2,
       "version_minor": 0
      },
      "text/plain": [
       "FloatProgress(value=0.0, bar_style='info', description='Progress:', layout=Layout(height='25px', width='50%'),…"
      ]
     },
     "metadata": {},
     "output_type": "display_data"
    },
    {
     "name": "stdout",
     "output_type": "stream",
     "text": [
      "+---------+-------------+--------+\n",
      "|   tconst|averageRating|numVotes|\n",
      "+---------+-------------+--------+\n",
      "|tt0000001|          5.6|    1550|\n",
      "|tt0000002|          6.1|     186|\n",
      "|tt0000003|          6.5|    1207|\n",
      "|tt0000004|          6.2|     113|\n",
      "|tt0000005|          6.1|    1934|\n",
      "|tt0000006|          5.2|     102|\n",
      "|tt0000007|          5.5|     615|\n",
      "|tt0000008|          5.4|    1667|\n",
      "|tt0000009|          5.4|      81|\n",
      "|tt0000010|          6.9|    5545|\n",
      "+---------+-------------+--------+\n",
      "only showing top 10 rows"
     ]
    }
   ],
   "source": [
    "movie_ratings.show(10)"
   ]
  },
  {
   "cell_type": "code",
   "execution_count": 18,
   "id": "77a1b72f",
   "metadata": {
    "execution": {
     "iopub.execute_input": "2023-04-21T04:58:39.890980Z",
     "iopub.status.busy": "2023-04-21T04:58:39.890578Z",
     "iopub.status.idle": "2023-04-21T04:58:40.073018Z",
     "shell.execute_reply": "2023-04-21T04:58:40.072001Z",
     "shell.execute_reply.started": "2023-04-21T04:58:39.890949Z"
    }
   },
   "outputs": [
    {
     "data": {
      "application/vnd.jupyter.widget-view+json": {
       "model_id": "435fe3d2cfd74aab812c3661be1e524d",
       "version_major": 2,
       "version_minor": 0
      },
      "text/plain": [
       "VBox()"
      ]
     },
     "metadata": {},
     "output_type": "display_data"
    },
    {
     "data": {
      "application/vnd.jupyter.widget-view+json": {
       "model_id": "",
       "version_major": 2,
       "version_minor": 0
      },
      "text/plain": [
       "FloatProgress(value=0.0, bar_style='info', description='Progress:', layout=Layout(height='25px', width='50%'),…"
      ]
     },
     "metadata": {},
     "output_type": "display_data"
    }
   ],
   "source": [
    "#OVERVIEW of Data "
   ]
  },
  {
   "cell_type": "code",
   "execution_count": 19,
   "id": "9a1f0be2",
   "metadata": {
    "execution": {
     "iopub.execute_input": "2023-04-21T04:58:40.074925Z",
     "iopub.status.busy": "2023-04-21T04:58:40.074549Z",
     "iopub.status.idle": "2023-04-21T04:58:52.475977Z",
     "shell.execute_reply": "2023-04-21T04:58:52.474691Z",
     "shell.execute_reply.started": "2023-04-21T04:58:40.074887Z"
    }
   },
   "outputs": [
    {
     "data": {
      "application/vnd.jupyter.widget-view+json": {
       "model_id": "7c3ca437e7bf44669a9b1e5d6c7e6fd0",
       "version_major": 2,
       "version_minor": 0
      },
      "text/plain": [
       "VBox()"
      ]
     },
     "metadata": {},
     "output_type": "display_data"
    },
    {
     "data": {
      "application/vnd.jupyter.widget-view+json": {
       "model_id": "",
       "version_major": 2,
       "version_minor": 0
      },
      "text/plain": [
       "FloatProgress(value=0.0, bar_style='info', description='Progress:', layout=Layout(height='25px', width='50%'),…"
      ]
     },
     "metadata": {},
     "output_type": "display_data"
    },
    {
     "name": "stdout",
     "output_type": "stream",
     "text": [
      "Number of rows:  9706922\n",
      "Number of columns:  6\n",
      "Number of rows:  6321302\n",
      "Number of columns:  9\n",
      "Number of rows:  36468817\n",
      "Number of columns:  6\n",
      "Number of rows:  993153\n",
      "Number of columns:  3"
     ]
    }
   ],
   "source": [
    "# Display number of rows and columns in the actors DataFrame\n",
    "print(\"Number of rows: \", actors.count())\n",
    "print(\"Number of columns: \", len(actors.columns))\n",
    "\n",
    "# Display number of rows and columns in the genres DataFrame\n",
    "print(\"Number of rows: \", genres.count())\n",
    "print(\"Number of columns: \", len(genres.columns))\n",
    "\n",
    "# Display number of rows and columns in the movie_actors DataFrame\n",
    "print(\"Number of rows: \", movie_actors.count())\n",
    "print(\"Number of columns: \", len(movie_actors.columns))\n",
    "\n",
    "# Display number of rows and columns in the movie_ratings DataFrame\n",
    "print(\"Number of rows: \", movie_ratings.count())\n",
    "print(\"Number of columns: \", len(movie_ratings.columns))\n"
   ]
  },
  {
   "cell_type": "code",
   "execution_count": 20,
   "id": "35423470",
   "metadata": {
    "execution": {
     "iopub.execute_input": "2023-04-21T04:58:52.477776Z",
     "iopub.status.busy": "2023-04-21T04:58:52.477382Z",
     "iopub.status.idle": "2023-04-21T04:58:52.857124Z",
     "shell.execute_reply": "2023-04-21T04:58:52.855705Z",
     "shell.execute_reply.started": "2023-04-21T04:58:52.477730Z"
    }
   },
   "outputs": [
    {
     "data": {
      "application/vnd.jupyter.widget-view+json": {
       "model_id": "1efc58278a2e4051a52dbc9c7cb16324",
       "version_major": 2,
       "version_minor": 0
      },
      "text/plain": [
       "VBox()"
      ]
     },
     "metadata": {},
     "output_type": "display_data"
    },
    {
     "data": {
      "application/vnd.jupyter.widget-view+json": {
       "model_id": "",
       "version_major": 2,
       "version_minor": 0
      },
      "text/plain": [
       "FloatProgress(value=0.0, bar_style='info', description='Progress:', layout=Layout(height='25px', width='50%'),…"
      ]
     },
     "metadata": {},
     "output_type": "display_data"
    }
   ],
   "source": [
    "##### PART 2 - Analyzing Genres #######"
   ]
  },
  {
   "cell_type": "code",
   "execution_count": 21,
   "id": "327fa50f",
   "metadata": {
    "execution": {
     "iopub.execute_input": "2023-04-21T04:58:52.858666Z",
     "iopub.status.busy": "2023-04-21T04:58:52.858132Z",
     "iopub.status.idle": "2023-04-21T04:58:53.555876Z",
     "shell.execute_reply": "2023-04-21T04:58:53.555144Z",
     "shell.execute_reply.started": "2023-04-21T04:58:52.858637Z"
    }
   },
   "outputs": [
    {
     "data": {
      "application/vnd.jupyter.widget-view+json": {
       "model_id": "1de1f6176258424495ca3cce214a81f2",
       "version_major": 2,
       "version_minor": 0
      },
      "text/plain": [
       "VBox()"
      ]
     },
     "metadata": {},
     "output_type": "display_data"
    },
    {
     "data": {
      "application/vnd.jupyter.widget-view+json": {
       "model_id": "",
       "version_major": 2,
       "version_minor": 0
      },
      "text/plain": [
       "FloatProgress(value=0.0, bar_style='info', description='Progress:', layout=Layout(height='25px', width='50%'),…"
      ]
     },
     "metadata": {},
     "output_type": "display_data"
    },
    {
     "name": "stdout",
     "output_type": "stream",
     "text": [
      "+---------+---------+--------------------+\n",
      "|   tconst|titleType|              genres|\n",
      "+---------+---------+--------------------+\n",
      "|tt0000001|    short|   Documentary,Short|\n",
      "|tt0000002|    short|     Animation,Short|\n",
      "|tt0000003|    short|Animation,Comedy,...|\n",
      "|tt0000004|    short|     Animation,Short|\n",
      "|tt0000005|    short|        Comedy,Short|\n",
      "+---------+---------+--------------------+\n",
      "only showing top 5 rows"
     ]
    }
   ],
   "source": [
    "genres.select(\"tconst\",\"titleType\",\"genres\").show(5)"
   ]
  },
  {
   "cell_type": "code",
   "execution_count": 22,
   "id": "248e95a3",
   "metadata": {
    "execution": {
     "iopub.execute_input": "2023-04-21T04:58:53.653321Z",
     "iopub.status.busy": "2023-04-21T04:58:53.650507Z",
     "iopub.status.idle": "2023-04-21T04:58:54.746990Z",
     "shell.execute_reply": "2023-04-21T04:58:54.745980Z",
     "shell.execute_reply.started": "2023-04-21T04:58:53.653279Z"
    }
   },
   "outputs": [
    {
     "data": {
      "application/vnd.jupyter.widget-view+json": {
       "model_id": "7199558cf38f4811bdc0a30e8a3d9fa5",
       "version_major": 2,
       "version_minor": 0
      },
      "text/plain": [
       "VBox()"
      ]
     },
     "metadata": {},
     "output_type": "display_data"
    },
    {
     "data": {
      "application/vnd.jupyter.widget-view+json": {
       "model_id": "",
       "version_major": 2,
       "version_minor": 0
      },
      "text/plain": [
       "FloatProgress(value=0.0, bar_style='info', description='Progress:', layout=Layout(height='25px', width='50%'),…"
      ]
     },
     "metadata": {},
     "output_type": "display_data"
    },
    {
     "name": "stdout",
     "output_type": "stream",
     "text": [
      "+---------+---------+-----------+\n",
      "|   tconst|titleType|      genre|\n",
      "+---------+---------+-----------+\n",
      "|tt0000001|    short|Documentary|\n",
      "|tt0000001|    short|      Short|\n",
      "|tt0000002|    short|  Animation|\n",
      "|tt0000002|    short|      Short|\n",
      "|tt0000003|    short|  Animation|\n",
      "|tt0000003|    short|     Comedy|\n",
      "|tt0000003|    short|    Romance|\n",
      "|tt0000004|    short|  Animation|\n",
      "|tt0000004|    short|      Short|\n",
      "|tt0000005|    short|     Comedy|\n",
      "+---------+---------+-----------+\n",
      "only showing top 10 rows"
     ]
    }
   ],
   "source": [
    "from pyspark.sql.functions import split, explode\n",
    "\n",
    "# Split genres by comma and create a new column 'genre'\n",
    "genre_split = genres.withColumn('genre', explode(split(genres.genres, ',')))\n",
    "\n",
    "# Display the resulting table\n",
    "genre_split.select('tconst', 'titleType', 'genre').show(10)\n"
   ]
  },
  {
   "cell_type": "code",
   "execution_count": 23,
   "id": "ec59d169",
   "metadata": {
    "execution": {
     "iopub.execute_input": "2023-04-21T04:58:54.751046Z",
     "iopub.status.busy": "2023-04-21T04:58:54.750386Z",
     "iopub.status.idle": "2023-04-21T04:58:55.347754Z",
     "shell.execute_reply": "2023-04-21T04:58:55.346670Z",
     "shell.execute_reply.started": "2023-04-21T04:58:54.751004Z"
    }
   },
   "outputs": [
    {
     "data": {
      "application/vnd.jupyter.widget-view+json": {
       "model_id": "2ccf6167cc424e218d15d9e509ab4428",
       "version_major": 2,
       "version_minor": 0
      },
      "text/plain": [
       "VBox()"
      ]
     },
     "metadata": {},
     "output_type": "display_data"
    },
    {
     "data": {
      "application/vnd.jupyter.widget-view+json": {
       "model_id": "",
       "version_major": 2,
       "version_minor": 0
      },
      "text/plain": [
       "FloatProgress(value=0.0, bar_style='info', description='Progress:', layout=Layout(height='25px', width='50%'),…"
      ]
     },
     "metadata": {},
     "output_type": "display_data"
    }
   ],
   "source": [
    "####### Total Unique Genres ######\n"
   ]
  },
  {
   "cell_type": "code",
   "execution_count": 24,
   "id": "4daca690",
   "metadata": {
    "execution": {
     "iopub.execute_input": "2023-04-21T04:58:55.351616Z",
     "iopub.status.busy": "2023-04-21T04:58:55.349472Z",
     "iopub.status.idle": "2023-04-21T04:59:01.734863Z",
     "shell.execute_reply": "2023-04-21T04:59:01.689360Z",
     "shell.execute_reply.started": "2023-04-21T04:58:55.351574Z"
    },
    "scrolled": true,
    "tags": []
   },
   "outputs": [
    {
     "data": {
      "application/vnd.jupyter.widget-view+json": {
       "model_id": "6df7da22195442b283745227663404b9",
       "version_major": 2,
       "version_minor": 0
      },
      "text/plain": [
       "VBox()"
      ]
     },
     "metadata": {},
     "output_type": "display_data"
    },
    {
     "data": {
      "application/vnd.jupyter.widget-view+json": {
       "model_id": "",
       "version_major": 2,
       "version_minor": 0
      },
      "text/plain": [
       "FloatProgress(value=0.0, bar_style='info', description='Progress:', layout=Layout(height='25px', width='50%'),…"
      ]
     },
     "metadata": {},
     "output_type": "display_data"
    },
    {
     "name": "stdout",
     "output_type": "stream",
     "text": [
      "Total number of unique genres in the movie category:  29"
     ]
    }
   ],
   "source": [
    "genre_split = genres.withColumn('genre', explode(split(genres.genres, ',')))\n",
    "\n",
    "# Get the distinct genres and count them\n",
    "total_genres = genre_split.select(\"genre\").distinct().count()\n",
    "\n",
    "# Print the result\n",
    "print(\"Total number of unique genres in the movie category: \", total_genres)"
   ]
  },
  {
   "cell_type": "code",
   "execution_count": 25,
   "id": "237b0dba",
   "metadata": {
    "execution": {
     "iopub.execute_input": "2023-04-21T04:59:01.737081Z",
     "iopub.status.busy": "2023-04-21T04:59:01.736359Z",
     "iopub.status.idle": "2023-04-21T04:59:02.341500Z",
     "shell.execute_reply": "2023-04-21T04:59:02.340466Z",
     "shell.execute_reply.started": "2023-04-21T04:59:01.737033Z"
    }
   },
   "outputs": [
    {
     "data": {
      "application/vnd.jupyter.widget-view+json": {
       "model_id": "df6b36331de44d1b9986662f85570b95",
       "version_major": 2,
       "version_minor": 0
      },
      "text/plain": [
       "VBox()"
      ]
     },
     "metadata": {},
     "output_type": "display_data"
    },
    {
     "data": {
      "application/vnd.jupyter.widget-view+json": {
       "model_id": "",
       "version_major": 2,
       "version_minor": 0
      },
      "text/plain": [
       "FloatProgress(value=0.0, bar_style='info', description='Progress:', layout=Layout(height='25px', width='50%'),…"
      ]
     },
     "metadata": {},
     "output_type": "display_data"
    }
   ],
   "source": [
    "#What are the unique genres available?"
   ]
  },
  {
   "cell_type": "code",
   "execution_count": 26,
   "id": "26edd21b",
   "metadata": {
    "execution": {
     "iopub.execute_input": "2023-04-21T04:59:02.435102Z",
     "iopub.status.busy": "2023-04-21T04:59:02.349238Z",
     "iopub.status.idle": "2023-04-21T04:59:08.592702Z",
     "shell.execute_reply": "2023-04-21T04:59:08.583692Z",
     "shell.execute_reply.started": "2023-04-21T04:59:02.435042Z"
    }
   },
   "outputs": [
    {
     "data": {
      "application/vnd.jupyter.widget-view+json": {
       "model_id": "e5aca46d814b4597827fbbf588c24597",
       "version_major": 2,
       "version_minor": 0
      },
      "text/plain": [
       "VBox()"
      ]
     },
     "metadata": {},
     "output_type": "display_data"
    },
    {
     "data": {
      "application/vnd.jupyter.widget-view+json": {
       "model_id": "",
       "version_major": 2,
       "version_minor": 0
      },
      "text/plain": [
       "FloatProgress(value=0.0, bar_style='info', description='Progress:', layout=Layout(height='25px', width='50%'),…"
      ]
     },
     "metadata": {},
     "output_type": "display_data"
    },
    {
     "name": "stdout",
     "output_type": "stream",
     "text": [
      "+-----------+\n",
      "|      genre|\n",
      "+-----------+\n",
      "|    Mystery|\n",
      "|    Musical|\n",
      "|      Sport|\n",
      "|     Action|\n",
      "|  Talk-Show|\n",
      "|    Romance|\n",
      "|   Thriller|\n",
      "|         \\N|\n",
      "| Reality-TV|\n",
      "|     Family|\n",
      "|    Fantasy|\n",
      "|    History|\n",
      "|  Animation|\n",
      "|      Short|\n",
      "|  Film-Noir|\n",
      "|     Sci-Fi|\n",
      "|       News|\n",
      "|      Drama|\n",
      "|Documentary|\n",
      "|    Western|\n",
      "+-----------+\n",
      "only showing top 20 rows"
     ]
    }
   ],
   "source": [
    "unique_genres = genre_split.select(\"genre\").distinct()\n",
    "unique_genres.show()\n"
   ]
  },
  {
   "cell_type": "code",
   "execution_count": 27,
   "id": "9df254e3",
   "metadata": {
    "execution": {
     "iopub.execute_input": "2023-04-21T04:59:08.626186Z",
     "iopub.status.busy": "2023-04-21T04:59:08.624944Z",
     "iopub.status.idle": "2023-04-21T04:59:15.052229Z",
     "shell.execute_reply": "2023-04-21T04:59:15.050844Z",
     "shell.execute_reply.started": "2023-04-21T04:59:08.626146Z"
    }
   },
   "outputs": [
    {
     "data": {
      "application/vnd.jupyter.widget-view+json": {
       "model_id": "d6fa62d0f0cc4bb28914ff645b3f22d7",
       "version_major": 2,
       "version_minor": 0
      },
      "text/plain": [
       "VBox()"
      ]
     },
     "metadata": {},
     "output_type": "display_data"
    },
    {
     "data": {
      "application/vnd.jupyter.widget-view+json": {
       "model_id": "",
       "version_major": 2,
       "version_minor": 0
      },
      "text/plain": [
       "FloatProgress(value=0.0, bar_style='info', description='Progress:', layout=Layout(height='25px', width='50%'),…"
      ]
     },
     "metadata": {},
     "output_type": "display_data"
    },
    {
     "name": "stdout",
     "output_type": "stream",
     "text": [
      "+-----------+\n",
      "|      genre|\n",
      "+-----------+\n",
      "|    Mystery|\n",
      "|    Musical|\n",
      "|      Sport|\n",
      "|     Action|\n",
      "|  Talk-Show|\n",
      "|    Romance|\n",
      "|   Thriller|\n",
      "| Reality-TV|\n",
      "|     Family|\n",
      "|    Fantasy|\n",
      "|    History|\n",
      "|  Animation|\n",
      "|  Film-Noir|\n",
      "|      Short|\n",
      "|     Sci-Fi|\n",
      "|       News|\n",
      "|      Drama|\n",
      "|Documentary|\n",
      "|    Western|\n",
      "|     Comedy|\n",
      "+-----------+\n",
      "only showing top 20 rows"
     ]
    }
   ],
   "source": [
    "from pyspark.sql.functions import col\n",
    "\n",
    "# Get the distinct genres and filter out null values\n",
    "unique_genres = genre_split.select(\"genre\").distinct().filter(col(\"genre\") != \"\\\\N\")\n",
    "\n",
    "# Show the unique genres\n",
    "unique_genres.show()\n"
   ]
  },
  {
   "cell_type": "code",
   "execution_count": 28,
   "id": "947f39b2",
   "metadata": {
    "execution": {
     "iopub.execute_input": "2023-04-21T04:59:15.054533Z",
     "iopub.status.busy": "2023-04-21T04:59:15.053928Z",
     "iopub.status.idle": "2023-04-21T04:59:21.348666Z",
     "shell.execute_reply": "2023-04-21T04:59:21.347533Z",
     "shell.execute_reply.started": "2023-04-21T04:59:15.054493Z"
    }
   },
   "outputs": [
    {
     "data": {
      "application/vnd.jupyter.widget-view+json": {
       "model_id": "10d21ff119fe4d7bafaea72c71a4161a",
       "version_major": 2,
       "version_minor": 0
      },
      "text/plain": [
       "VBox()"
      ]
     },
     "metadata": {},
     "output_type": "display_data"
    },
    {
     "data": {
      "application/vnd.jupyter.widget-view+json": {
       "model_id": "",
       "version_major": 2,
       "version_minor": 0
      },
      "text/plain": [
       "FloatProgress(value=0.0, bar_style='info', description='Progress:', layout=Layout(height='25px', width='50%'),…"
      ]
     },
     "metadata": {},
     "output_type": "display_data"
    },
    {
     "name": "stdout",
     "output_type": "stream",
     "text": [
      "Total number of unique genres in the movie category:  28"
     ]
    }
   ],
   "source": [
    "total_genres = unique_genres.select(\"genre\").distinct().count()\n",
    "\n",
    "# Print the result\n",
    "print(\"Total number of unique genres in the movie category: \", total_genres)"
   ]
  },
  {
   "cell_type": "code",
   "execution_count": 29,
   "id": "9ad9bea6",
   "metadata": {
    "execution": {
     "iopub.execute_input": "2023-04-21T04:59:21.352685Z",
     "iopub.status.busy": "2023-04-21T04:59:21.350274Z",
     "iopub.status.idle": "2023-04-21T04:59:21.938300Z",
     "shell.execute_reply": "2023-04-21T04:59:21.937772Z",
     "shell.execute_reply.started": "2023-04-21T04:59:21.352643Z"
    }
   },
   "outputs": [
    {
     "data": {
      "application/vnd.jupyter.widget-view+json": {
       "model_id": "417d70dccca4490fbc75bc62203db858",
       "version_major": 2,
       "version_minor": 0
      },
      "text/plain": [
       "VBox()"
      ]
     },
     "metadata": {},
     "output_type": "display_data"
    },
    {
     "data": {
      "application/vnd.jupyter.widget-view+json": {
       "model_id": "",
       "version_major": 2,
       "version_minor": 0
      },
      "text/plain": [
       "FloatProgress(value=0.0, bar_style='info', description='Progress:', layout=Layout(height='25px', width='50%'),…"
      ]
     },
     "metadata": {},
     "output_type": "display_data"
    }
   ],
   "source": [
    "#### TOP GENRES BY MOVIES ######"
   ]
  },
  {
   "cell_type": "code",
   "execution_count": 30,
   "id": "4c575a89",
   "metadata": {
    "execution": {
     "iopub.execute_input": "2023-04-21T04:59:21.941225Z",
     "iopub.status.busy": "2023-04-21T04:59:21.940434Z",
     "iopub.status.idle": "2023-04-21T04:59:28.024830Z",
     "shell.execute_reply": "2023-04-21T04:59:28.020850Z",
     "shell.execute_reply.started": "2023-04-21T04:59:21.941182Z"
    }
   },
   "outputs": [
    {
     "data": {
      "application/vnd.jupyter.widget-view+json": {
       "model_id": "db139f326bf241908dd529a23846adc6",
       "version_major": 2,
       "version_minor": 0
      },
      "text/plain": [
       "VBox()"
      ]
     },
     "metadata": {},
     "output_type": "display_data"
    },
    {
     "data": {
      "application/vnd.jupyter.widget-view+json": {
       "model_id": "",
       "version_major": 2,
       "version_minor": 0
      },
      "text/plain": [
       "FloatProgress(value=0.0, bar_style='info', description='Progress:', layout=Layout(height='25px', width='50%'),…"
      ]
     },
     "metadata": {},
     "output_type": "display_data"
    },
    {
     "name": "stdout",
     "output_type": "stream",
     "text": [
      "+---------+-------------+\n",
      "|    genre|averageRating|\n",
      "+---------+-------------+\n",
      "|    Drama|          4.2|\n",
      "|    Drama|          4.2|\n",
      "|Biography|          4.1|\n",
      "|    Drama|          4.1|\n",
      "|  History|          4.1|\n",
      "|    Drama|          5.7|\n",
      "|    Drama|          4.6|\n",
      "|  History|          4.6|\n",
      "|Biography|          6.3|\n",
      "|    Drama|          6.3|\n",
      "+---------+-------------+\n",
      "only showing top 10 rows"
     ]
    }
   ],
   "source": [
    "from pyspark.sql.functions import col\n",
    "genre_split_filtered = genre_split.filter(col('titleType') == 'movie')\n",
    "\n",
    "filtered_df = genre_split_filtered.filter(col('genre') != '\\\\N')\n",
    "\n",
    "joined_dataframe = movie_ratings.join(filtered_df,\"tconst\",\"inner\")\n",
    "\n",
    "joined_dataframe.select('genre','averageRating').show(10)\n"
   ]
  },
  {
   "cell_type": "code",
   "execution_count": 31,
   "id": "7da0cee7",
   "metadata": {},
   "outputs": [
    {
     "data": {
      "application/vnd.jupyter.widget-view+json": {
       "model_id": "eb40309deead4ea0a259a1be85523a1c",
       "version_major": 2,
       "version_minor": 0
      },
      "text/plain": [
       "VBox()"
      ]
     },
     "metadata": {},
     "output_type": "display_data"
    },
    {
     "data": {
      "application/vnd.jupyter.widget-view+json": {
       "model_id": "",
       "version_major": 2,
       "version_minor": 0
      },
      "text/plain": [
       "FloatProgress(value=0.0, bar_style='info', description='Progress:', layout=Layout(height='25px', width='50%'),…"
      ]
     },
     "metadata": {},
     "output_type": "display_data"
    },
    {
     "name": "stdout",
     "output_type": "stream",
     "text": [
      "+-----------+-----------------+\n",
      "|      genre|       avg_rating|\n",
      "+-----------+-----------------+\n",
      "|    Mystery|5.940437537126316|\n",
      "|    Musical|6.203246053185319|\n",
      "|     Action|5.718734067904495|\n",
      "|      Sport|6.600145190943391|\n",
      "|  Talk-Show|5.800000190734863|\n",
      "|    Romance|6.125714179294426|\n",
      "|   Thriller|5.625967567519544|\n",
      "| Reality-TV|6.379310377712907|\n",
      "|     Family|6.250560452699635|\n",
      "|    Fantasy|5.924820762891499|\n",
      "|    History|6.822718117193864|\n",
      "|  Animation|6.326203749467441|\n",
      "|  Film-Noir|6.636246780503378|\n",
      "|      Short|7.259999942779541|\n",
      "|     Sci-Fi|5.325150006900168|\n",
      "|       News|7.200916040944689|\n",
      "|      Drama|6.288080211097538|\n",
      "|Documentary|7.245469805371099|\n",
      "|    Western|5.948970991005059|\n",
      "|     Comedy|5.941363107822231|\n",
      "+-----------+-----------------+\n",
      "only showing top 20 rows"
     ]
    }
   ],
   "source": [
    "from pyspark.sql.functions import avg\n",
    "\n",
    "avg_rating_by_genre = (\n",
    "    joined_dataframe\n",
    "    .select(col(\"genre\"), col(\"averageRating\").cast(\"float\").alias(\"averageRating\"))\n",
    "    .groupby(\"genre\")\n",
    "    .agg(avg(\"averageRating\").alias(\"avg_rating\"))\n",
    ")\n",
    "avg_rating_by_genre.show(20)"
   ]
  },
  {
   "cell_type": "code",
   "execution_count": 32,
   "id": "8e5cf1fb",
   "metadata": {
    "execution": {
     "iopub.execute_input": "2023-04-21T04:59:34.469609Z",
     "iopub.status.busy": "2023-04-21T04:59:34.467155Z",
     "iopub.status.idle": "2023-04-21T04:59:34.961180Z",
     "shell.execute_reply": "2023-04-21T04:59:34.960161Z",
     "shell.execute_reply.started": "2023-04-21T04:59:34.469566Z"
    }
   },
   "outputs": [
    {
     "data": {
      "application/vnd.jupyter.widget-view+json": {
       "model_id": "9a439a72290640729c26d7cc490ef7aa",
       "version_major": 2,
       "version_minor": 0
      },
      "text/plain": [
       "VBox()"
      ]
     },
     "metadata": {},
     "output_type": "display_data"
    },
    {
     "data": {
      "application/vnd.jupyter.widget-view+json": {
       "model_id": "",
       "version_major": 2,
       "version_minor": 0
      },
      "text/plain": [
       "FloatProgress(value=0.0, bar_style='info', description='Progress:', layout=Layout(height='25px', width='50%'),…"
      ]
     },
     "metadata": {},
     "output_type": "display_data"
    }
   ],
   "source": [
    "### Horizontal Bar Chart of Top Genres\n",
    "\n",
    "#With this data available, let us now build a barchart of all genres \n",
    "\n",
    "#**HINT**: don't forget about the matplotlib magic!\n",
    "\n",
    "#%matplot plt\n",
    "\n"
   ]
  },
  {
   "cell_type": "code",
   "execution_count": 33,
   "id": "eb3b2af9",
   "metadata": {},
   "outputs": [
    {
     "data": {
      "application/vnd.jupyter.widget-view+json": {
       "model_id": "50089a76678d4f449de54452f977be7f",
       "version_major": 2,
       "version_minor": 0
      },
      "text/plain": [
       "VBox()"
      ]
     },
     "metadata": {},
     "output_type": "display_data"
    },
    {
     "data": {
      "application/vnd.jupyter.widget-view+json": {
       "model_id": "",
       "version_major": 2,
       "version_minor": 0
      },
      "text/plain": [
       "FloatProgress(value=0.0, bar_style='info', description='Progress:', layout=Layout(height='25px', width='50%'),…"
      ]
     },
     "metadata": {},
     "output_type": "display_data"
    },
    {
     "name": "stdout",
     "output_type": "stream",
     "text": [
      "+-----------+-----------------+\n",
      "|      genre|       avg_rating|\n",
      "+-----------+-----------------+\n",
      "|      Short|7.259999942779541|\n",
      "|Documentary|7.245469805371099|\n",
      "|       News|7.200916040944689|\n",
      "|  Biography|6.983637643044585|\n",
      "|  Game-Show|6.974999904632568|\n",
      "|    History|6.822718117193864|\n",
      "|      Music|6.752020207214588|\n",
      "|  Film-Noir|6.636246780503378|\n",
      "|      Sport|6.600145190943391|\n",
      "|        War|6.483807036278403|\n",
      "| Reality-TV|6.379310377712907|\n",
      "|  Animation|6.326203749467441|\n",
      "|      Drama|6.288080211097538|\n",
      "|     Family|6.250560452699635|\n",
      "|    Musical|6.203246053185319|\n",
      "|    Romance|6.125714179294426|\n",
      "|      Crime|6.026013333109149|\n",
      "|    Western|5.948970991005059|\n",
      "|     Comedy|5.941363107822231|\n",
      "|    Mystery|5.940437537126316|\n",
      "+-----------+-----------------+\n",
      "only showing top 20 rows"
     ]
    }
   ],
   "source": [
    "from pyspark.sql.functions import desc\n",
    "\n",
    "genre_avg_rating = avg_rating_by_genre.orderBy(desc('avg_rating'))\n",
    "genre_avg_rating.show(20)"
   ]
  },
  {
   "cell_type": "code",
   "execution_count": 34,
   "id": "a5daea69",
   "metadata": {
    "execution": {
     "iopub.execute_input": "2023-04-21T06:17:31.550371Z",
     "iopub.status.busy": "2023-04-21T06:17:31.549850Z",
     "iopub.status.idle": "2023-04-21T06:17:49.399566Z",
     "shell.execute_reply": "2023-04-21T06:17:49.398682Z",
     "shell.execute_reply.started": "2023-04-21T06:17:31.550337Z"
    },
    "tags": []
   },
   "outputs": [
    {
     "data": {
      "application/vnd.jupyter.widget-view+json": {
       "model_id": "79772479704c4ee0ba5a33ea399c132a",
       "version_major": 2,
       "version_minor": 0
      },
      "text/plain": [
       "VBox()"
      ]
     },
     "metadata": {},
     "output_type": "display_data"
    },
    {
     "data": {
      "application/vnd.jupyter.widget-view+json": {
       "model_id": "",
       "version_major": 2,
       "version_minor": 0
      },
      "text/plain": [
       "FloatProgress(value=0.0, bar_style='info', description='Progress:', layout=Layout(height='25px', width='50%'),…"
      ]
     },
     "metadata": {},
     "output_type": "display_data"
    },
    {
     "data": {
      "image/png": "[encoded data removed]",
      "text/plain": [
       "<IPython.core.display.Image object>"
      ]
     },
     "metadata": {},
     "output_type": "display_data"
    }
   ],
   "source": [
    "import pandas as pd\n",
    "import matplotlib.pyplot as plt\n",
    "from pyspark.sql.functions import asc\n",
    "\n",
    "genre_avg_rating = avg_rating_by_genre.orderBy(asc('avg_rating'))\n",
    "genre_ratings_pd = genre_avg_rating.toPandas()\n",
    "\n",
    "# Plot the data using Matplotlib\n",
    "fig, ax = plt.subplots(figsize=(12, 8))\n",
    "\n",
    "ax.barh(genre_ratings_pd[\"genre\"], genre_ratings_pd[\"avg_rating\"], color=\"blueviolet\")\n",
    "ax.set_title(\"Top Genres in the Movie Category\")\n",
    "ax.set_xlabel(\"Average Rating\")\n",
    "ax.set_ylabel(\"Genre\")\n",
    "\n",
    "# Set the minimum value of the x-axis to 5\n",
    "ax.set_xlim([5.0, None])\n",
    "\n",
    "# Display the plot using the %matplot magic command\n",
    "%matplot plt\n"
   ]
  },
  {
   "cell_type": "code",
   "execution_count": 35,
   "id": "d40d1d08",
   "metadata": {
    "execution": {
     "iopub.execute_input": "2023-04-21T05:00:08.348162Z",
     "iopub.status.busy": "2023-04-21T05:00:08.346288Z",
     "iopub.status.idle": "2023-04-21T05:00:08.647827Z",
     "shell.execute_reply": "2023-04-21T05:00:08.645604Z",
     "shell.execute_reply.started": "2023-04-21T05:00:08.348108Z"
    }
   },
   "outputs": [
    {
     "data": {
      "application/vnd.jupyter.widget-view+json": {
       "model_id": "f725b45f424340c48f2d9861f64a24d8",
       "version_major": 2,
       "version_minor": 0
      },
      "text/plain": [
       "VBox()"
      ]
     },
     "metadata": {},
     "output_type": "display_data"
    },
    {
     "data": {
      "application/vnd.jupyter.widget-view+json": {
       "model_id": "",
       "version_major": 2,
       "version_minor": 0
      },
      "text/plain": [
       "FloatProgress(value=0.0, bar_style='info', description='Progress:', layout=Layout(height='25px', width='50%'),…"
      ]
     },
     "metadata": {},
     "output_type": "display_data"
    }
   ],
   "source": [
    "## PART 3 - Analyzing Job Categories\n"
   ]
  },
  {
   "cell_type": "code",
   "execution_count": 36,
   "id": "d576fd1b",
   "metadata": {
    "execution": {
     "iopub.execute_input": "2023-04-21T05:00:08.654272Z",
     "iopub.status.busy": "2023-04-21T05:00:08.653715Z",
     "iopub.status.idle": "2023-04-21T05:00:08.947213Z",
     "shell.execute_reply": "2023-04-21T05:00:08.945797Z",
     "shell.execute_reply.started": "2023-04-21T05:00:08.654227Z"
    }
   },
   "outputs": [
    {
     "data": {
      "application/vnd.jupyter.widget-view+json": {
       "model_id": "36074f96a7a740d68062743947808c9b",
       "version_major": 2,
       "version_minor": 0
      },
      "text/plain": [
       "VBox()"
      ]
     },
     "metadata": {},
     "output_type": "display_data"
    },
    {
     "data": {
      "application/vnd.jupyter.widget-view+json": {
       "model_id": "",
       "version_major": 2,
       "version_minor": 0
      },
      "text/plain": [
       "FloatProgress(value=0.0, bar_style='info', description='Progress:', layout=Layout(height='25px', width='50%'),…"
      ]
     },
     "metadata": {},
     "output_type": "display_data"
    }
   ],
   "source": [
    "## Total Unique Job Categories"
   ]
  },
  {
   "cell_type": "code",
   "execution_count": 37,
   "id": "9644ddb9",
   "metadata": {
    "execution": {
     "iopub.execute_input": "2023-04-21T05:00:08.949982Z",
     "iopub.status.busy": "2023-04-21T05:00:08.949223Z",
     "iopub.status.idle": "2023-04-21T05:00:09.747860Z",
     "shell.execute_reply": "2023-04-21T05:00:09.683391Z",
     "shell.execute_reply.started": "2023-04-21T05:00:08.949937Z"
    }
   },
   "outputs": [
    {
     "data": {
      "application/vnd.jupyter.widget-view+json": {
       "model_id": "5c418bb0ba824f0a84632bf4e3f8bec3",
       "version_major": 2,
       "version_minor": 0
      },
      "text/plain": [
       "VBox()"
      ]
     },
     "metadata": {},
     "output_type": "display_data"
    },
    {
     "data": {
      "application/vnd.jupyter.widget-view+json": {
       "model_id": "",
       "version_major": 2,
       "version_minor": 0
      },
      "text/plain": [
       "FloatProgress(value=0.0, bar_style='info', description='Progress:', layout=Layout(height='25px', width='50%'),…"
      ]
     },
     "metadata": {},
     "output_type": "display_data"
    }
   ],
   "source": [
    "### What is the total number of unique job categories? ####"
   ]
  },
  {
   "cell_type": "code",
   "execution_count": 38,
   "id": "f02afc96",
   "metadata": {
    "execution": {
     "iopub.execute_input": "2023-04-21T05:00:09.765471Z",
     "iopub.status.busy": "2023-04-21T05:00:09.762384Z",
     "iopub.status.idle": "2023-04-21T05:00:10.469246Z",
     "shell.execute_reply": "2023-04-21T05:00:10.467162Z",
     "shell.execute_reply.started": "2023-04-21T05:00:09.765419Z"
    }
   },
   "outputs": [
    {
     "data": {
      "application/vnd.jupyter.widget-view+json": {
       "model_id": "68eded4d6f2b4761a09487dc44191d18",
       "version_major": 2,
       "version_minor": 0
      },
      "text/plain": [
       "VBox()"
      ]
     },
     "metadata": {},
     "output_type": "display_data"
    },
    {
     "data": {
      "application/vnd.jupyter.widget-view+json": {
       "model_id": "",
       "version_major": 2,
       "version_minor": 0
      },
      "text/plain": [
       "FloatProgress(value=0.0, bar_style='info', description='Progress:', layout=Layout(height='25px', width='50%'),…"
      ]
     },
     "metadata": {},
     "output_type": "display_data"
    },
    {
     "name": "stdout",
     "output_type": "stream",
     "text": [
      "root\n",
      " |-- tconst: string (nullable = true)\n",
      " |-- ordering: string (nullable = true)\n",
      " |-- nconst: string (nullable = true)\n",
      " |-- category: string (nullable = true)\n",
      " |-- job: string (nullable = true)\n",
      " |-- characters: string (nullable = true)"
     ]
    }
   ],
   "source": [
    "movie_actors.printSchema()"
   ]
  },
  {
   "cell_type": "code",
   "execution_count": 39,
   "id": "ca6f3a0a",
   "metadata": {
    "execution": {
     "iopub.execute_input": "2023-04-21T05:00:10.470760Z",
     "iopub.status.busy": "2023-04-21T05:00:10.470475Z",
     "iopub.status.idle": "2023-04-21T05:00:11.059552Z",
     "shell.execute_reply": "2023-04-21T05:00:11.058366Z",
     "shell.execute_reply.started": "2023-04-21T05:00:10.470735Z"
    }
   },
   "outputs": [
    {
     "data": {
      "application/vnd.jupyter.widget-view+json": {
       "model_id": "4c6bf0117524481188f4bc078198dc52",
       "version_major": 2,
       "version_minor": 0
      },
      "text/plain": [
       "VBox()"
      ]
     },
     "metadata": {},
     "output_type": "display_data"
    },
    {
     "data": {
      "application/vnd.jupyter.widget-view+json": {
       "model_id": "",
       "version_major": 2,
       "version_minor": 0
      },
      "text/plain": [
       "FloatProgress(value=0.0, bar_style='info', description='Progress:', layout=Layout(height='25px', width='50%'),…"
      ]
     },
     "metadata": {},
     "output_type": "display_data"
    },
    {
     "name": "stdout",
     "output_type": "stream",
     "text": [
      "+---------+---------------+\n",
      "|   tconst|       category|\n",
      "+---------+---------------+\n",
      "|tt0000001|           self|\n",
      "|tt0000001|       director|\n",
      "|tt0000001|cinematographer|\n",
      "|tt0000002|       director|\n",
      "|tt0000002|       composer|\n",
      "+---------+---------------+\n",
      "only showing top 5 rows"
     ]
    }
   ],
   "source": [
    "movie_actors.select('tconst','category').show(5)"
   ]
  },
  {
   "cell_type": "code",
   "execution_count": 61,
   "id": "c83f9a4f",
   "metadata": {
    "execution": {
     "iopub.execute_input": "2023-04-21T05:00:11.138862Z",
     "iopub.status.busy": "2023-04-21T05:00:11.061631Z",
     "iopub.status.idle": "2023-04-21T05:00:28.156410Z",
     "shell.execute_reply": "2023-04-21T05:00:28.153799Z",
     "shell.execute_reply.started": "2023-04-21T05:00:11.138802Z"
    }
   },
   "outputs": [
    {
     "data": {
      "application/vnd.jupyter.widget-view+json": {
       "model_id": "f6656640608a4378a44928d8576914c8",
       "version_major": 2,
       "version_minor": 0
      },
      "text/plain": [
       "VBox()"
      ]
     },
     "metadata": {},
     "output_type": "display_data"
    },
    {
     "data": {
      "application/vnd.jupyter.widget-view+json": {
       "model_id": "",
       "version_major": 2,
       "version_minor": 0
      },
      "text/plain": [
       "FloatProgress(value=0.0, bar_style='info', description='Progress:', layout=Layout(height='25px', width='50%'),…"
      ]
     },
     "metadata": {},
     "output_type": "display_data"
    },
    {
     "name": "stdout",
     "output_type": "stream",
     "text": [
      "The total number of unique job categories is: 12"
     ]
    }
   ],
   "source": [
    "from pyspark.sql.functions import countDistinct\n",
    "\n",
    "num_categories = movie_actors.select(countDistinct('category')).collect()[0][0]\n",
    "print('The total number of unique job categories is:', num_categories)\n"
   ]
  },
  {
   "cell_type": "code",
   "execution_count": 41,
   "id": "3cb8e2b6",
   "metadata": {
    "execution": {
     "iopub.execute_input": "2023-04-21T05:00:28.170028Z",
     "iopub.status.busy": "2023-04-21T05:00:28.165741Z",
     "iopub.status.idle": "2023-04-21T05:00:42.049781Z",
     "shell.execute_reply": "2023-04-21T05:00:42.048742Z",
     "shell.execute_reply.started": "2023-04-21T05:00:28.169973Z"
    }
   },
   "outputs": [
    {
     "data": {
      "application/vnd.jupyter.widget-view+json": {
       "model_id": "232b3372c5734fff9b87f7db0609ff1e",
       "version_major": 2,
       "version_minor": 0
      },
      "text/plain": [
       "VBox()"
      ]
     },
     "metadata": {},
     "output_type": "display_data"
    },
    {
     "data": {
      "application/vnd.jupyter.widget-view+json": {
       "model_id": "",
       "version_major": 2,
       "version_minor": 0
      },
      "text/plain": [
       "FloatProgress(value=0.0, bar_style='info', description='Progress:', layout=Layout(height='25px', width='50%'),…"
      ]
     },
     "metadata": {},
     "output_type": "display_data"
    },
    {
     "name": "stdout",
     "output_type": "stream",
     "text": [
      "+-------------------+\n",
      "|           category|\n",
      "+-------------------+\n",
      "|            actress|\n",
      "|           producer|\n",
      "|production_designer|\n",
      "|             writer|\n",
      "|              actor|\n",
      "|    cinematographer|\n",
      "|      archive_sound|\n",
      "|    archive_footage|\n",
      "|               self|\n",
      "|             editor|\n",
      "|           composer|\n",
      "|           director|\n",
      "+-------------------+"
     ]
    }
   ],
   "source": [
    "unique_category = movie_actors.select('category').distinct()\n",
    "unique_category.show()\n"
   ]
  },
  {
   "cell_type": "code",
   "execution_count": 42,
   "id": "2747a1ff",
   "metadata": {
    "execution": {
     "iopub.execute_input": "2023-04-21T05:00:42.051534Z",
     "iopub.status.busy": "2023-04-21T05:00:42.051100Z",
     "iopub.status.idle": "2023-04-21T05:00:42.272872Z",
     "shell.execute_reply": "2023-04-21T05:00:42.271653Z",
     "shell.execute_reply.started": "2023-04-21T05:00:42.051496Z"
    }
   },
   "outputs": [
    {
     "data": {
      "application/vnd.jupyter.widget-view+json": {
       "model_id": "b1917529bcc74acaaeb169afb193672e",
       "version_major": 2,
       "version_minor": 0
      },
      "text/plain": [
       "VBox()"
      ]
     },
     "metadata": {},
     "output_type": "display_data"
    },
    {
     "data": {
      "application/vnd.jupyter.widget-view+json": {
       "model_id": "",
       "version_major": 2,
       "version_minor": 0
      },
      "text/plain": [
       "FloatProgress(value=0.0, bar_style='info', description='Progress:', layout=Layout(height='25px', width='50%'),…"
      ]
     },
     "metadata": {},
     "output_type": "display_data"
    }
   ],
   "source": [
    "## Top Job Categories\n"
   ]
  },
  {
   "cell_type": "code",
   "execution_count": 43,
   "id": "3b86480e-9408-45fa-ae86-9f22a597a5f5",
   "metadata": {},
   "outputs": [
    {
     "data": {
      "application/vnd.jupyter.widget-view+json": {
       "model_id": "e593cde12580481b818aef61534dd6c7",
       "version_major": 2,
       "version_minor": 0
      },
      "text/plain": [
       "VBox()"
      ]
     },
     "metadata": {},
     "output_type": "display_data"
    },
    {
     "data": {
      "application/vnd.jupyter.widget-view+json": {
       "model_id": "",
       "version_major": 2,
       "version_minor": 0
      },
      "text/plain": [
       "FloatProgress(value=0.0, bar_style='info', description='Progress:', layout=Layout(height='25px', width='50%'),…"
      ]
     },
     "metadata": {},
     "output_type": "display_data"
    }
   ],
   "source": [
    "### Counts of Titles / Job Category"
   ]
  },
  {
   "cell_type": "code",
   "execution_count": 44,
   "id": "d081d208",
   "metadata": {
    "execution": {
     "iopub.execute_input": "2023-04-21T06:33:53.587314Z",
     "iopub.status.busy": "2023-04-21T06:33:53.586668Z"
    },
    "tags": []
   },
   "outputs": [
    {
     "data": {
      "application/vnd.jupyter.widget-view+json": {
       "model_id": "625197e4740045c09e7af5ac9ba7fcf7",
       "version_major": 2,
       "version_minor": 0
      },
      "text/plain": [
       "VBox()"
      ]
     },
     "metadata": {},
     "output_type": "display_data"
    },
    {
     "data": {
      "application/vnd.jupyter.widget-view+json": {
       "model_id": "",
       "version_major": 2,
       "version_minor": 0
      },
      "text/plain": [
       "FloatProgress(value=0.0, bar_style='info', description='Progress:', layout=Layout(height='25px', width='50%'),…"
      ]
     },
     "metadata": {},
     "output_type": "display_data"
    },
    {
     "name": "stdout",
     "output_type": "stream",
     "text": [
      "+-------------------+-------+\n",
      "|           category|  count|\n",
      "+-------------------+-------+\n",
      "|            actress|6325097|\n",
      "|           producer|2197866|\n",
      "|production_designer| 285924|\n",
      "|             writer|4811596|\n",
      "|              actor|8493701|\n",
      "|    cinematographer|1300404|\n",
      "|      archive_sound|   2143|\n",
      "|    archive_footage| 209035|\n",
      "|               self|6153089|\n",
      "|             editor|1197669|\n",
      "|           composer|1313187|\n",
      "|           director|4179106|\n",
      "+-------------------+-------+"
     ]
    }
   ],
   "source": [
    "from pyspark.sql.functions import count\n",
    "\n",
    "category_count = movie_actors.groupBy('category').agg(count('*').alias('count'))\n",
    "\n",
    "category_count.show()\n"
   ]
  },
  {
   "cell_type": "code",
   "execution_count": 45,
   "id": "9b853891",
   "metadata": {
    "execution": {
     "iopub.execute_input": "2023-04-21T05:00:56.651921Z",
     "iopub.status.busy": "2023-04-21T05:00:56.651584Z",
     "iopub.status.idle": "2023-04-21T05:00:56.879393Z",
     "shell.execute_reply": "2023-04-21T05:00:56.878492Z",
     "shell.execute_reply.started": "2023-04-21T05:00:56.651882Z"
    }
   },
   "outputs": [
    {
     "data": {
      "application/vnd.jupyter.widget-view+json": {
       "model_id": "879322e58de34cb6aad789659f43aa73",
       "version_major": 2,
       "version_minor": 0
      },
      "text/plain": [
       "VBox()"
      ]
     },
     "metadata": {},
     "output_type": "display_data"
    },
    {
     "data": {
      "application/vnd.jupyter.widget-view+json": {
       "model_id": "",
       "version_major": 2,
       "version_minor": 0
      },
      "text/plain": [
       "FloatProgress(value=0.0, bar_style='info', description='Progress:', layout=Layout(height='25px', width='50%'),…"
      ]
     },
     "metadata": {},
     "output_type": "display_data"
    }
   ],
   "source": [
    "### Bar Chart of Top Job Categories\n",
    "\n",
    "#With this data available, let us now build a barchart of the top 5 categories. \n",
    "\n",
    "#HINT: don't forget about the matplotlib magic!\n",
    "\n",
    "\n",
    "#%matplot plt\n"
   ]
  },
  {
   "cell_type": "code",
   "execution_count": 46,
   "id": "941a96f0-32c0-40c9-82f9-1041e753a213",
   "metadata": {
    "execution": {
     "iopub.execute_input": "2023-04-21T06:34:21.373951Z",
     "iopub.status.busy": "2023-04-21T06:34:21.373661Z"
    }
   },
   "outputs": [
    {
     "data": {
      "application/vnd.jupyter.widget-view+json": {
       "model_id": "679bd71578e24f60b98bf10b35160a8b",
       "version_major": 2,
       "version_minor": 0
      },
      "text/plain": [
       "VBox()"
      ]
     },
     "metadata": {},
     "output_type": "display_data"
    },
    {
     "data": {
      "application/vnd.jupyter.widget-view+json": {
       "model_id": "",
       "version_major": 2,
       "version_minor": 0
      },
      "text/plain": [
       "FloatProgress(value=0.0, bar_style='info', description='Progress:', layout=Layout(height='25px', width='50%'),…"
      ]
     },
     "metadata": {},
     "output_type": "display_data"
    },
    {
     "name": "stdout",
     "output_type": "stream",
     "text": [
      "+-------------------+-------+\n",
      "|           category|  count|\n",
      "+-------------------+-------+\n",
      "|              actor|8493701|\n",
      "|            actress|6325097|\n",
      "|               self|6153089|\n",
      "|             writer|4811596|\n",
      "|           director|4179106|\n",
      "|           producer|2197866|\n",
      "|           composer|1313187|\n",
      "|    cinematographer|1300404|\n",
      "|             editor|1197669|\n",
      "|production_designer| 285924|\n",
      "|    archive_footage| 209035|\n",
      "|      archive_sound|   2143|\n",
      "+-------------------+-------+"
     ]
    }
   ],
   "source": [
    "category_count.orderBy(desc('count')).show()"
   ]
  },
  {
   "cell_type": "code",
   "execution_count": 47,
   "id": "5eb4ea2d-233f-42f7-b54d-de254d1c3f84",
   "metadata": {
    "execution": {
     "iopub.execute_input": "2023-04-21T06:57:11.397313Z",
     "iopub.status.busy": "2023-04-21T06:57:11.396027Z",
     "iopub.status.idle": "2023-04-21T06:57:25.079289Z",
     "shell.execute_reply": "2023-04-21T06:57:25.077429Z",
     "shell.execute_reply.started": "2023-04-21T06:57:11.397259Z"
    },
    "tags": []
   },
   "outputs": [
    {
     "data": {
      "application/vnd.jupyter.widget-view+json": {
       "model_id": "011e66a1e52c45639fc40fea5a5b6353",
       "version_major": 2,
       "version_minor": 0
      },
      "text/plain": [
       "VBox()"
      ]
     },
     "metadata": {},
     "output_type": "display_data"
    },
    {
     "data": {
      "application/vnd.jupyter.widget-view+json": {
       "model_id": "",
       "version_major": 2,
       "version_minor": 0
      },
      "text/plain": [
       "FloatProgress(value=0.0, bar_style='info', description='Progress:', layout=Layout(height='25px', width='50%'),…"
      ]
     },
     "metadata": {},
     "output_type": "display_data"
    },
    {
     "data": {
      "image/png": "[encoded data removed]",
      "text/plain": [
       "<IPython.core.display.Image object>"
      ]
     },
     "metadata": {},
     "output_type": "display_data"
    }
   ],
   "source": [
    "import pandas as pd\n",
    "import matplotlib.pyplot as plt\n",
    "from pyspark.sql.functions import desc\n",
    "\n",
    "category_count_pd = category_count.orderBy(desc('count')).limit(5).toPandas()\n",
    "\n",
    "# Set the width of the bars\n",
    "bar_width = 0.5\n",
    "\n",
    "# Plot the data using Matplotlib\n",
    "fig, ax = plt.subplots(figsize=(15,9))\n",
    "\n",
    "ax.bar(category_count_pd[\"category\"], category_count_pd[\"count\"], color=\"orange\", width=bar_width)\n",
    "ax.set_title(\"Top Job Categories\")\n",
    "ax.set_xlabel(\"Job Categories\")\n",
    "ax.set_ylabel(\"Count\")\n",
    "\n",
    "# Set the minimum value of the y-axis to 3m and max to 9m\n",
    "ax.set_ylim([3000000, 9000000])\n",
    "\n",
    "\n",
    "# Display the plot using the %matplot magic command\n",
    "%matplot plt"
   ]
  },
  {
   "cell_type": "code",
   "execution_count": 48,
   "id": "952e17f2",
   "metadata": {
    "execution": {
     "iopub.execute_input": "2023-04-21T05:00:56.881114Z",
     "iopub.status.busy": "2023-04-21T05:00:56.880778Z",
     "iopub.status.idle": "2023-04-21T05:00:57.160255Z",
     "shell.execute_reply": "2023-04-21T05:00:57.159319Z",
     "shell.execute_reply.started": "2023-04-21T05:00:56.881085Z"
    }
   },
   "outputs": [
    {
     "data": {
      "application/vnd.jupyter.widget-view+json": {
       "model_id": "f8c4204c24cd40b19256e53340df58d4",
       "version_major": 2,
       "version_minor": 0
      },
      "text/plain": [
       "VBox()"
      ]
     },
     "metadata": {},
     "output_type": "display_data"
    },
    {
     "data": {
      "application/vnd.jupyter.widget-view+json": {
       "model_id": "",
       "version_major": 2,
       "version_minor": 0
      },
      "text/plain": [
       "FloatProgress(value=0.0, bar_style='info', description='Progress:', layout=Layout(height='25px', width='50%'),…"
      ]
     },
     "metadata": {},
     "output_type": "display_data"
    }
   ],
   "source": [
    "# PART 4 - Answer to the following questions:"
   ]
  },
  {
   "cell_type": "code",
   "execution_count": 49,
   "id": "c81bcca0",
   "metadata": {
    "execution": {
     "iopub.execute_input": "2023-04-21T05:00:57.161784Z",
     "iopub.status.busy": "2023-04-21T05:00:57.161502Z",
     "iopub.status.idle": "2023-04-21T05:00:57.555228Z",
     "shell.execute_reply": "2023-04-21T05:00:57.554770Z",
     "shell.execute_reply.started": "2023-04-21T05:00:57.161756Z"
    }
   },
   "outputs": [
    {
     "data": {
      "application/vnd.jupyter.widget-view+json": {
       "model_id": "72920e8a998547059f0ddb80e62b1cbf",
       "version_major": 2,
       "version_minor": 0
      },
      "text/plain": [
       "VBox()"
      ]
     },
     "metadata": {},
     "output_type": "display_data"
    },
    {
     "data": {
      "application/vnd.jupyter.widget-view+json": {
       "model_id": "",
       "version_major": 2,
       "version_minor": 0
      },
      "text/plain": [
       "FloatProgress(value=0.0, bar_style='info', description='Progress:', layout=Layout(height='25px', width='50%'),…"
      ]
     },
     "metadata": {},
     "output_type": "display_data"
    }
   ],
   "source": [
    "## 1) Find all the \"movies\" featuring \"Johnny Depp\" and \"Helena Bonham Carter\"."
   ]
  },
  {
   "cell_type": "code",
   "execution_count": 50,
   "id": "9421a5b8",
   "metadata": {
    "execution": {
     "iopub.execute_input": "2023-04-21T07:54:05.048437Z",
     "iopub.status.busy": "2023-04-21T07:54:05.047749Z",
     "iopub.status.idle": "2023-04-21T07:54:33.250355Z",
     "shell.execute_reply": "2023-04-21T07:54:33.247362Z",
     "shell.execute_reply.started": "2023-04-21T07:54:05.048391Z"
    },
    "tags": []
   },
   "outputs": [
    {
     "data": {
      "application/vnd.jupyter.widget-view+json": {
       "model_id": "c64108f2a4b346ddb6199a4e76483b1b",
       "version_major": 2,
       "version_minor": 0
      },
      "text/plain": [
       "VBox()"
      ]
     },
     "metadata": {},
     "output_type": "display_data"
    },
    {
     "data": {
      "application/vnd.jupyter.widget-view+json": {
       "model_id": "",
       "version_major": 2,
       "version_minor": 0
      },
      "text/plain": [
       "FloatProgress(value=0.0, bar_style='info', description='Progress:', layout=Layout(height='25px', width='50%'),…"
      ]
     },
     "metadata": {},
     "output_type": "display_data"
    },
    {
     "name": "stdout",
     "output_type": "stream",
     "text": [
      "+----------------------------------------------+\n",
      "|primaryTitle                                  |\n",
      "+----------------------------------------------+\n",
      "|Dark Shadows                                  |\n",
      "|Sweeney Todd: The Demon Barber of Fleet Street|\n",
      "|Alice Through the Looking Glass               |\n",
      "|Alice in Wonderland                           |\n",
      "|Charlie and the Chocolate Factory             |\n",
      "|Corpse Bride                                  |\n",
      "+----------------------------------------------+"
     ]
    }
   ],
   "source": [
    "#### 1)\n",
    "\n",
    "#joining tables to do query\n",
    "actors_genres = actors.join(movie_actors,actors.nconst == movie_actors.nconst, 'inner').drop(actors.nconst)\n",
    "joined_actors_genres = actors_genres.join(genres,genres.tconst==actors_genres.tconst, 'inner').drop(genres.tconst)\n",
    "\n",
    "#Finding result\n",
    "movies = joined_actors_genres.filter((joined_actors_genres.primaryName==\"Johnny Depp\") | (joined_actors_genres.primaryName==\"Helena Bonham Carter\"))\n",
    "movies = movies.filter(movies.titleType=='movie').groupBy('tconst','primaryTitle','startYear').count().filter('count = 2')\n",
    "movies.select('primaryTitle').show(truncate=False)\n",
    "\n"
   ]
  },
  {
   "cell_type": "code",
   "execution_count": 51,
   "id": "02c6f3a6",
   "metadata": {},
   "outputs": [
    {
     "data": {
      "application/vnd.jupyter.widget-view+json": {
       "model_id": "b2e54c568b754b1dbef4897a201371c6",
       "version_major": 2,
       "version_minor": 0
      },
      "text/plain": [
       "VBox()"
      ]
     },
     "metadata": {},
     "output_type": "display_data"
    },
    {
     "data": {
      "application/vnd.jupyter.widget-view+json": {
       "model_id": "",
       "version_major": 2,
       "version_minor": 0
      },
      "text/plain": [
       "FloatProgress(value=0.0, bar_style='info', description='Progress:', layout=Layout(height='25px', width='50%'),…"
      ]
     },
     "metadata": {},
     "output_type": "display_data"
    }
   ],
   "source": [
    "## 2) Find all the \"movies\" featuring \"Brad Pitt\" after 2010."
   ]
  },
  {
   "cell_type": "code",
   "execution_count": 52,
   "id": "4e4f8abe",
   "metadata": {},
   "outputs": [
    {
     "data": {
      "application/vnd.jupyter.widget-view+json": {
       "model_id": "f5fb0e55852a45a594c77996afb8f05e",
       "version_major": 2,
       "version_minor": 0
      },
      "text/plain": [
       "VBox()"
      ]
     },
     "metadata": {},
     "output_type": "display_data"
    },
    {
     "data": {
      "application/vnd.jupyter.widget-view+json": {
       "model_id": "",
       "version_major": 2,
       "version_minor": 0
      },
      "text/plain": [
       "FloatProgress(value=0.0, bar_style='info', description='Progress:', layout=Layout(height='25px', width='50%'),…"
      ]
     },
     "metadata": {},
     "output_type": "display_data"
    },
    {
     "name": "stdout",
     "output_type": "stream",
     "text": [
      "+---------------------------------+---------+\n",
      "|primaryTitle                     |startYear|\n",
      "+---------------------------------+---------+\n",
      "|Babylon                          |2021     |\n",
      "|Irresistible                     |2020     |\n",
      "|Kajillionaire                    |2020     |\n",
      "|Once Upon a Time ... in Hollywood|2019     |\n",
      "|Ad Astra                         |2019     |\n",
      "|The King                         |2019     |\n",
      "|Vice                             |2018     |\n",
      "|War Machine                      |2017     |\n",
      "|Allied                           |2016     |\n",
      "|Voyage of Time: Life's Journey   |2016     |\n",
      "|The Big Short                    |2015     |\n",
      "|Hitting the Apex                 |2015     |\n",
      "|By the Sea                       |2015     |\n",
      "|Fury                             |2014     |\n",
      "|12 Years a Slave                 |2013     |\n",
      "|Kick-Ass 2                       |2013     |\n",
      "|World War Z                      |2013     |\n",
      "|Killing Them Softly              |2012     |\n",
      "|The Tree of Life                 |2011     |\n",
      "|Moneyball                        |2011     |\n",
      "+---------------------------------+---------+"
     ]
    }
   ],
   "source": [
    "#2)\n",
    "# Finding result\n",
    "bradpitt = joined_actors_genres.filter((joined_actors_genres.primaryName==\"Brad Pitt\"))\n",
    "bradpitt = bradpitt.filter(bradpitt.titleType == 'movie').filter(bradpitt.startYear > 2010).select('primaryTitle', 'startYear')\n",
    "BP_after2010_movies = bradpitt.orderBy(desc('startYear'))\n",
    "BP_after2010_movies.show(truncate=False)\n"
   ]
  },
  {
   "cell_type": "code",
   "execution_count": 53,
   "id": "ff73165c",
   "metadata": {},
   "outputs": [
    {
     "data": {
      "application/vnd.jupyter.widget-view+json": {
       "model_id": "bbc34f33a9ee41fcb9c862bb5fff7182",
       "version_major": 2,
       "version_minor": 0
      },
      "text/plain": [
       "VBox()"
      ]
     },
     "metadata": {},
     "output_type": "display_data"
    },
    {
     "data": {
      "application/vnd.jupyter.widget-view+json": {
       "model_id": "",
       "version_major": 2,
       "version_minor": 0
      },
      "text/plain": [
       "FloatProgress(value=0.0, bar_style='info', description='Progress:', layout=Layout(height='25px', width='50%'),…"
      ]
     },
     "metadata": {},
     "output_type": "display_data"
    }
   ],
   "source": [
    "## 3) What is the number of \"movies\" \"acted\" by \"Zendaya\" per year?"
   ]
  },
  {
   "cell_type": "code",
   "execution_count": 54,
   "id": "618ad5bb",
   "metadata": {
    "execution": {
     "iopub.execute_input": "2023-04-21T05:00:58.044816Z",
     "iopub.status.busy": "2023-04-21T05:00:58.044082Z",
     "iopub.status.idle": "2023-04-21T05:01:23.019631Z",
     "shell.execute_reply": "2023-04-21T05:01:23.006239Z",
     "shell.execute_reply.started": "2023-04-21T05:00:58.044776Z"
    },
    "scrolled": true
   },
   "outputs": [
    {
     "data": {
      "application/vnd.jupyter.widget-view+json": {
       "model_id": "cfc53b3527534857ad498575ed84644d",
       "version_major": 2,
       "version_minor": 0
      },
      "text/plain": [
       "VBox()"
      ]
     },
     "metadata": {},
     "output_type": "display_data"
    },
    {
     "data": {
      "application/vnd.jupyter.widget-view+json": {
       "model_id": "",
       "version_major": 2,
       "version_minor": 0
      },
      "text/plain": [
       "FloatProgress(value=0.0, bar_style='info', description='Progress:', layout=Layout(height='25px', width='50%'),…"
      ]
     },
     "metadata": {},
     "output_type": "display_data"
    },
    {
     "name": "stdout",
     "output_type": "stream",
     "text": [
      "+---------+-----+\n",
      "|startYear|count|\n",
      "+---------+-----+\n",
      "|     2020|    1|\n",
      "|     2018|    2|\n",
      "|     2017|    1|\n",
      "+---------+-----+"
     ]
    }
   ],
   "source": [
    "#3) \n",
    "# Joining tables to do query\n",
    "actors_genres = actors.join(movie_actors,actors.nconst == movie_actors.nconst, 'inner').drop(actors.nconst)\n",
    "joined_actors_genres = actors_genres.join(genres,genres.tconst==actors_genres.tconst, 'inner').drop(genres.tconst)\n",
    "\n",
    "#Finding result\n",
    "zendaya = joined_actors_genres.filter((joined_actors_genres.primaryName==\"Zendaya\")&(joined_actors_genres.titleType==\"movie\"))\n",
    "zendaya = zendaya.filter(zendaya.category=='actress').select('startYear')\n",
    "zendaya = zendaya.filter(zendaya.startYear.endswith('N')==False)\n",
    "zendaya.groupby('startYear').count().show()"
   ]
  },
  {
   "cell_type": "code",
   "execution_count": 55,
   "id": "11dd547b",
   "metadata": {},
   "outputs": [
    {
     "data": {
      "application/vnd.jupyter.widget-view+json": {
       "model_id": "83484e60559a4bcd8fc6d6fdd95fce72",
       "version_major": 2,
       "version_minor": 0
      },
      "text/plain": [
       "VBox()"
      ]
     },
     "metadata": {},
     "output_type": "display_data"
    },
    {
     "data": {
      "application/vnd.jupyter.widget-view+json": {
       "model_id": "",
       "version_major": 2,
       "version_minor": 0
      },
      "text/plain": [
       "FloatProgress(value=0.0, bar_style='info', description='Progress:', layout=Layout(height='25px', width='50%'),…"
      ]
     },
     "metadata": {},
     "output_type": "display_data"
    }
   ],
   "source": [
    "##### 4) What are the \"movies\" by average rating greater than \"9.7\" and released in \"2019\"?"
   ]
  },
  {
   "cell_type": "code",
   "execution_count": 56,
   "id": "3a79b831",
   "metadata": {
    "execution": {
     "iopub.execute_input": "2023-04-21T07:54:33.256097Z",
     "iopub.status.busy": "2023-04-21T07:54:33.255439Z",
     "iopub.status.idle": "2023-04-21T07:54:41.561541Z",
     "shell.execute_reply": "2023-04-21T07:54:41.560761Z",
     "shell.execute_reply.started": "2023-04-21T07:54:33.256050Z"
    }
   },
   "outputs": [
    {
     "data": {
      "application/vnd.jupyter.widget-view+json": {
       "model_id": "44462d9130724721a08b2e211f750a8e",
       "version_major": 2,
       "version_minor": 0
      },
      "text/plain": [
       "VBox()"
      ]
     },
     "metadata": {},
     "output_type": "display_data"
    },
    {
     "data": {
      "application/vnd.jupyter.widget-view+json": {
       "model_id": "",
       "version_major": 2,
       "version_minor": 0
      },
      "text/plain": [
       "FloatProgress(value=0.0, bar_style='info', description='Progress:', layout=Layout(height='25px', width='50%'),…"
      ]
     },
     "metadata": {},
     "output_type": "display_data"
    },
    {
     "name": "stdout",
     "output_type": "stream",
     "text": [
      "+-------------------------------------------------+-------------+\n",
      "|primaryTitle                                     |averageRating|\n",
      "+-------------------------------------------------+-------------+\n",
      "|A Grunt's Life                                   |10.0         |\n",
      "|Kirket                                           |10.0         |\n",
      "|Bu Can Var Oldugu Sürece                         |10.0         |\n",
      "|L'Enfant Terrible                                |10.0         |\n",
      "|The Butcher Baronet                              |10.0         |\n",
      "|A Medicine for the Mind                          |10.0         |\n",
      "|Our Scripted Life                                |10.0         |\n",
      "|Love in Kilnerry                                 |10.0         |\n",
      "|The Twilight Zone: A 60th Anniversary Celebration|10.0         |\n",
      "|Superhombre                                      |9.9          |\n",
      "|The Cardinal                                     |9.9          |\n",
      "|Puritan: All of Life to The Glory of God         |9.9          |\n",
      "|Kamen Rider Zi-O: Over Quartzer                  |9.8          |\n",
      "|Time and motion                                  |9.8          |\n",
      "|We Shall Not Die Now                             |9.8          |\n",
      "|Gini Helida Kathe                                |9.8          |\n",
      "|Square One                                       |9.8          |\n",
      "|From Shock to Awe                                |9.8          |\n",
      "|Randhawa                                         |9.8          |\n",
      "+-------------------------------------------------+-------------+"
     ]
    }
   ],
   "source": [
    "from pyspark.sql.functions import col, when\n",
    "\n",
    "# Load the title.basics dataset and filter only the movies released in 2019\n",
    "movies_2019 = genres.filter((col(\"titleType\") == \"movie\") & (col(\"startYear\") == 2019))\n",
    "\n",
    "# Load the title.ratings dataset and filter only the movies with an average rating greater than 9.7\n",
    "top_rated_movies = movie_ratings.filter(col(\"averageRating\") > 9.7)\n",
    "\n",
    "# Join the two datasets on the tconst column\n",
    "joined_data = movies_2019.join(top_rated_movies, \"tconst\")\n",
    "\n",
    "# Create a new column that maps averageRating to a numeric value for sorting\n",
    "joined_data = joined_data.withColumn(\"rating_value\", when(col(\"averageRating\") == 10.0, 1).otherwise(0))\n",
    "joined_data = joined_data.withColumn(\"rating_value\", when(col(\"averageRating\") == 9.9, 2).otherwise(col(\"rating_value\")))\n",
    "joined_data = joined_data.withColumn(\"rating_value\", when(col(\"averageRating\") == 9.8, 3).otherwise(col(\"rating_value\")))\n",
    "\n",
    "# Show the resulting dataframe with the required columns, sorted by rating_value and averageRating\n",
    "joined_data = joined_data.select(\"primaryTitle\", \"averageRating\").orderBy(col(\"rating_value\"), col(\"averageRating\").desc())\n",
    "joined_data.show(truncate=False)"
   ]
  },
  {
   "cell_type": "code",
   "execution_count": 57,
   "id": "94b7605a",
   "metadata": {},
   "outputs": [
    {
     "data": {
      "application/vnd.jupyter.widget-view+json": {
       "model_id": "8430b38bd7c64390883852653037eb82",
       "version_major": 2,
       "version_minor": 0
      },
      "text/plain": [
       "VBox()"
      ]
     },
     "metadata": {},
     "output_type": "display_data"
    },
    {
     "data": {
      "application/vnd.jupyter.widget-view+json": {
       "model_id": "",
       "version_major": 2,
       "version_minor": 0
      },
      "text/plain": [
       "FloatProgress(value=0.0, bar_style='info', description='Progress:', layout=Layout(height='25px', width='50%'),…"
      ]
     },
     "metadata": {},
     "output_type": "display_data"
    }
   ],
   "source": [
    "## Extra Credit - Analysis of your choice\n",
    "\n",
    "## Try and analyze some interesting dimension to this data. You should specify the question in your Project2_Analysis.ipynb. \n",
    "\n",
    "### You must join at least two datasets."
   ]
  },
  {
   "cell_type": "code",
   "execution_count": 58,
   "id": "e5e0739c",
   "metadata": {},
   "outputs": [
    {
     "data": {
      "application/vnd.jupyter.widget-view+json": {
       "model_id": "646d4c3ea32448238703099b7ca08fc6",
       "version_major": 2,
       "version_minor": 0
      },
      "text/plain": [
       "VBox()"
      ]
     },
     "metadata": {},
     "output_type": "display_data"
    },
    {
     "data": {
      "application/vnd.jupyter.widget-view+json": {
       "model_id": "",
       "version_major": 2,
       "version_minor": 0
      },
      "text/plain": [
       "FloatProgress(value=0.0, bar_style='info', description='Progress:', layout=Layout(height='25px', width='50%'),…"
      ]
     },
     "metadata": {},
     "output_type": "display_data"
    }
   ],
   "source": [
    "## For this section. We'll answer this question: \"Highest Rated Movies Featuring Leonardo DiCaprio wtih a minimum rating of 8.0\""
   ]
  },
  {
   "cell_type": "code",
   "execution_count": 59,
   "id": "60efa6e2",
   "metadata": {},
   "outputs": [
    {
     "data": {
      "application/vnd.jupyter.widget-view+json": {
       "model_id": "5092fd5c2a1b46fe8bd3626c87168e16",
       "version_major": 2,
       "version_minor": 0
      },
      "text/plain": [
       "VBox()"
      ]
     },
     "metadata": {},
     "output_type": "display_data"
    },
    {
     "data": {
      "application/vnd.jupyter.widget-view+json": {
       "model_id": "",
       "version_major": 2,
       "version_minor": 0
      },
      "text/plain": [
       "FloatProgress(value=0.0, bar_style='info', description='Progress:', layout=Layout(height='25px', width='50%'),…"
      ]
     },
     "metadata": {},
     "output_type": "display_data"
    }
   ],
   "source": [
    "actors_genres = actors.join(movie_actors,actors.nconst == movie_actors.nconst, 'inner').drop(actors.nconst)\n",
    "joined_actors_genres = actors_genres.join(genres,genres.tconst==actors_genres.tconst, 'inner').drop(genres.tconst)\n",
    "extra_credit_df = joined_actors_genres.join(movie_ratings,movie_ratings.tconst == joined_actors_genres.tconst, 'inner').drop(movie_ratings.tconst)"
   ]
  },
  {
   "cell_type": "code",
   "execution_count": 60,
   "id": "beb0053f",
   "metadata": {},
   "outputs": [
    {
     "data": {
      "application/vnd.jupyter.widget-view+json": {
       "model_id": "492a8f9e729b4ba9a4feda1932dc7c47",
       "version_major": 2,
       "version_minor": 0
      },
      "text/plain": [
       "VBox()"
      ]
     },
     "metadata": {},
     "output_type": "display_data"
    },
    {
     "data": {
      "application/vnd.jupyter.widget-view+json": {
       "model_id": "",
       "version_major": 2,
       "version_minor": 0
      },
      "text/plain": [
       "FloatProgress(value=0.0, bar_style='info', description='Progress:', layout=Layout(height='25px', width='50%'),…"
      ]
     },
     "metadata": {},
     "output_type": "display_data"
    },
    {
     "name": "stdout",
     "output_type": "stream",
     "text": [
      "+--------------------------------------------+-------------+\n",
      "|primaryTitle                                |averageRating|\n",
      "+--------------------------------------------+-------------+\n",
      "|Inception                                   |8.8          |\n",
      "|The Clock                                   |8.8          |\n",
      "|The Departed                                |8.5          |\n",
      "|Django Unchained                            |8.4          |\n",
      "|Before the Flood                            |8.3          |\n",
      "|The Wolf of Wall Street                     |8.2          |\n",
      "|Shutter Island                              |8.1          |\n",
      "|Catch Me If You Can                         |8.1          |\n",
      "|Struggle: The Life and Lost Art of Szukalski|8.0          |\n",
      "|The Revenant                                |8.0          |\n",
      "|Once Upon a Time ... in Hollywood           |8.0          |\n",
      "|Blood Diamond                               |8.0          |\n",
      "+--------------------------------------------+-------------+"
     ]
    }
   ],
   "source": [
    "from pyspark.sql.functions import desc\n",
    "\n",
    "leodicaprio_movies = extra_credit_df.filter(extra_credit_df.primaryName == \"Leonardo DiCaprio\") \\\n",
    "                        .filter(extra_credit_df.titleType == \"movie\") \\\n",
    "                        .filter(extra_credit_df.averageRating >= 8.0) \\\n",
    "                        .select(\"primaryTitle\", \"averageRating\") \\\n",
    "                        .orderBy(desc(\"averageRating\"))\n",
    "\n",
    "leodicaprio_movies.show(truncate=False)\n"
   ]
  }
 ],
 "metadata": {
  "kernelspec": {
   "display_name": "PySpark",
   "language": "",
   "name": "pysparkkernel"
  },
  "language_info": {
   "codemirror_mode": {
    "name": "python",
    "version": 2
   },
   "mimetype": "text/x-python",
   "name": "pyspark",
   "pygments_lexer": "python2"
  }
 },
 "nbformat": 4,
 "nbformat_minor": 5
}
